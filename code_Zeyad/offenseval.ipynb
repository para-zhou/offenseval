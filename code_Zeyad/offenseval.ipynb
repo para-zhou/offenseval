{
 "cells": [
  {
   "cell_type": "markdown",
   "metadata": {
    "colab_type": "text",
    "id": "view-in-github"
   },
   "source": [
    "<a href=\"https://colab.research.google.com/github/ZeyadZanaty/offenseval/blob/master/offenseval.ipynb\" target=\"_parent\"><img src=\"https://colab.research.google.com/assets/colab-badge.svg\" alt=\"Open In Colab\"/></a>"
   ]
  },
  {
   "cell_type": "markdown",
   "metadata": {
    "colab_type": "text",
    "id": "SPWG_BxYb8tW"
   },
   "source": [
    "## Cloning to download classes"
   ]
  },
  {
   "cell_type": "code",
   "execution_count": 3,
   "metadata": {
    "colab": {
     "base_uri": "https://localhost:8080/",
     "height": 170
    },
    "colab_type": "code",
    "id": "s1T3tl8ipn6l",
    "outputId": "f190050d-214a-4c6b-8c9c-7c400d0afdae"
   },
   "outputs": [
    {
     "name": "stdout",
     "output_type": "stream",
     "text": [
      "/content\n",
      "Cloning into 'offenseval'...\n",
      "remote: Enumerating objects: 162, done.\u001b[K\n",
      "remote: Counting objects: 100% (162/162), done.\u001b[K\n",
      "remote: Compressing objects: 100% (125/125), done.\u001b[K\n",
      "remote: Total 162 (delta 78), reused 110 (delta 33), pack-reused 0\u001b[K\n",
      "Receiving objects: 100% (162/162), 57.27 MiB | 34.86 MiB/s, done.\n",
      "Resolving deltas: 100% (78/78), done.\n",
      "/content/offenseval\n"
     ]
    }
   ],
   "source": [
    "!git clone https://github.com/ZeyadZanaty/offenseval.git\n",
    "%cd offenseval\n",
    "%matplotlib inline"
   ]
  },
  {
   "cell_type": "markdown",
   "metadata": {
    "colab_type": "text",
    "id": "ve5Rv-1qbn-s"
   },
   "source": [
    "## Imports"
   ]
  },
  {
   "cell_type": "code",
   "execution_count": 4,
   "metadata": {
    "colab": {
     "base_uri": "https://localhost:8080/",
     "height": 204
    },
    "colab_type": "code",
    "id": "gourfMtuqQpn",
    "outputId": "19165e73-ddce-4497-c68f-a47ceb89c293"
   },
   "outputs": [
    {
     "name": "stdout",
     "output_type": "stream",
     "text": [
      "[nltk_data] Downloading package stopwords to /root/nltk_data...\n",
      "[nltk_data]   Package stopwords is already up-to-date!\n",
      "[nltk_data] Downloading package punkt to /root/nltk_data...\n",
      "[nltk_data]   Package punkt is already up-to-date!\n",
      "[nltk_data] Downloading package wordnet to /root/nltk_data...\n",
      "[nltk_data]   Package wordnet is already up-to-date!\n",
      "[nltk_data] Downloading package averaged_perceptron_tagger to\n",
      "[nltk_data]     /root/nltk_data...\n",
      "[nltk_data]   Package averaged_perceptron_tagger is already up-to-\n",
      "[nltk_data]       date!\n"
     ]
    },
    {
     "data": {
      "text/plain": [
       "True"
      ]
     },
     "execution_count": 4,
     "metadata": {
      "tags": []
     },
     "output_type": "execute_result"
    }
   ],
   "source": [
    "import nltk\n",
    "nltk.download(['stopwords','punkt','wordnet','averaged_perceptron_tagger'])"
   ]
  },
  {
   "cell_type": "code",
   "execution_count": 5,
   "metadata": {
    "colab": {
     "base_uri": "https://localhost:8080/",
     "height": 34
    },
    "colab_type": "code",
    "id": "--LyPKw5sbCP",
    "outputId": "317d7b5e-1a7d-4b21-cccc-5af9a567abf7"
   },
   "outputs": [
    {
     "name": "stderr",
     "output_type": "stream",
     "text": [
      "Using TensorFlow backend.\n"
     ]
    }
   ],
   "source": [
    "from DataReader import DataReader\n",
    "from Preprocessor import Preprocessor\n",
    "from Vectorizer import Vectorizer\n",
    "from Classifier import Classifier\n",
    "from DeepLearning import DeepLearner\n",
    "from sklearn.model_selection import train_test_split as split\n",
    "import numpy as np"
   ]
  },
  {
   "cell_type": "markdown",
   "metadata": {
    "colab_type": "text",
    "id": "wm9C_I7akuZ-"
   },
   "source": [
    "# Subtask A"
   ]
  },
  {
   "cell_type": "markdown",
   "metadata": {
    "colab_type": "text",
    "id": "KC-eY0hnbp42"
   },
   "source": [
    "## Reading data and splitting"
   ]
  },
  {
   "cell_type": "code",
   "execution_count": 4,
   "metadata": {
    "colab": {
     "base_uri": "https://localhost:8080/",
     "height": 34
    },
    "colab_type": "code",
    "id": "0LJucFgpKJzH",
    "outputId": "a440f09a-e584-4aae-8fe6-5d543d6e7ae1"
   },
   "outputs": [
    {
     "name": "stderr",
     "output_type": "stream",
     "text": [
      "Reading Data: 13241it [00:00, 212464.68it/s]\n"
     ]
    }
   ],
   "source": [
    "dr = DataReader('./datasets/training-v1/offenseval-training-v1.tsv','A')\n",
    "data,labels = dr.get_labelled_data()\n",
    "data,labels = dr.shuffle(data,labels,'random')\n",
    "\n",
    "tr_data,tst_data,tr_labels,tst_labels = split(data,labels,test_size=0.3)"
   ]
  },
  {
   "cell_type": "markdown",
   "metadata": {
    "colab_type": "text",
    "id": "9PxM1EZCbt5o"
   },
   "source": [
    "## Initializing objects"
   ]
  },
  {
   "cell_type": "code",
   "execution_count": null,
   "metadata": {
    "colab": {},
    "colab_type": "code",
    "id": "fPejHCDkKNRK"
   },
   "outputs": [],
   "source": [
    "preprocessors = [('lemmatize'),('remove_stopwords','lemmatize'),\n",
    "        ('remove_stopwords','stem'),('remove_stopwords','lemmatize'),\n",
    "        ('remove_stopwords','lemmatize'),('remove_stopwords')]\n",
    "\n",
    "vectorizers = ['count','count','count','tfidf','glove']\n",
    "\n",
    "classifiers = [('RandomForest',{'n_estimators':30}),\n",
    "               ('LogisticRegression',{'penalty':'l2','solver':'sag'}),\n",
    "              ('M-NaiveBayes',{'alpha':5,'fit_prior':True}),\n",
    "              ('KNN',{'n_neighbors':5}),('SVC',{'C':10,'kernel':'rbf'})]\n",
    "\n",
    "for i in range(len(vectorizers)):\n",
    "  preprocessors[i] = Preprocessor(preprocessors[i])\n",
    "  vectorizers[i] = Vectorizer(vectorizers[i])\n",
    "  classifiers[i] = Classifier(*classifiers[i])"
   ]
  },
  {
   "cell_type": "markdown",
   "metadata": {
    "colab_type": "text",
    "id": "kvRlJnTZb0Ag"
   },
   "source": [
    "## Training classifiers"
   ]
  },
  {
   "cell_type": "code",
   "execution_count": null,
   "metadata": {
    "colab": {},
    "colab_type": "code",
    "id": "TeVz8vG3NeJN"
   },
   "outputs": [],
   "source": [
    "tst_vecs = []\n",
    "tr_vecs = []\n",
    "for i in range(len(classifiers)):\n",
    "  tr_data_clean = preprocessors[i].clean(tr_data)\n",
    "  tst_data_clean = preprocessors[i].clean(tst_data)\n",
    "  \n",
    "  tr_vecs.append(vectorizers[i].vectorize(tr_data_clean))\n",
    "  tst_vecs.append(vectorizers[i].vectorize(tst_data_clean))\n",
    "  \n",
    "  classifiers[i].fit(tr_vecs[i],tr_labels)"
   ]
  },
  {
   "cell_type": "markdown",
   "metadata": {
    "colab_type": "text",
    "id": "AR6ebE9yb3FP"
   },
   "source": [
    "## Testing and plotting"
   ]
  },
  {
   "cell_type": "code",
   "execution_count": 11,
   "metadata": {
    "colab": {
     "base_uri": "https://localhost:8080/",
     "height": 1657
    },
    "colab_type": "code",
    "id": "9C4UQT0JRqrk",
    "outputId": "433378fb-4ea7-41c7-f1ab-69f48d3296d2"
   },
   "outputs": [
    {
     "name": "stdout",
     "output_type": "stream",
     "text": [
      "<class 'sklearn.ensemble.forest.RandomForestClassifier'> {'n_estimators': 30}\n"
     ]
    },
    {
     "data": {
      "image/png": "[encoded data removed]",
      "text/plain": [
       "<matplotlib.figure.Figure at 0x7fc9d45dc7b8>"
      ]
     },
     "metadata": {
      "tags": []
     },
     "output_type": "display_data"
    },
    {
     "name": "stdout",
     "output_type": "stream",
     "text": [
      "<class 'sklearn.linear_model.logistic.LogisticRegression'> {'penalty': 'l2', 'solver': 'sag'}\n"
     ]
    },
    {
     "data": {
      "image/png": "[encoded data removed]",
      "text/plain": [
       "<matplotlib.figure.Figure at 0x7fc9d47a65c0>"
      ]
     },
     "metadata": {
      "tags": []
     },
     "output_type": "display_data"
    },
    {
     "name": "stdout",
     "output_type": "stream",
     "text": [
      "<class 'sklearn.naive_bayes.MultinomialNB'> {'alpha': 5, 'fit_prior': True}\n"
     ]
    },
    {
     "data": {
      "image/png": "[encoded data removed]",
      "text/plain": [
       "<matplotlib.figure.Figure at 0x7fc9d782e9b0>"
      ]
     },
     "metadata": {
      "tags": []
     },
     "output_type": "display_data"
    },
    {
     "name": "stdout",
     "output_type": "stream",
     "text": [
      "<class 'sklearn.neighbors.classification.KNeighborsClassifier'> {'n_neighbors': 5}\n"
     ]
    },
    {
     "data": {
      "image/png": "[encoded data removed]",
      "text/plain": [
       "<matplotlib.figure.Figure at 0x7fc9d7878d30>"
      ]
     },
     "metadata": {
      "tags": []
     },
     "output_type": "display_data"
    },
    {
     "name": "stdout",
     "output_type": "stream",
     "text": [
      "<class 'sklearn.svm.classes.SVC'> {'C': 10, 'kernel': 'rbf'}\n"
     ]
    },
    {
     "data": {
      "image/png": "[encoded data removed]",
      "text/plain": [
       "<matplotlib.figure.Figure at 0x7fc9d7978c18>"
      ]
     },
     "metadata": {
      "tags": []
     },
     "output_type": "display_data"
    },
    {
     "data": {
      "text/plain": [
       "[0.7590634441087614,\n",
       " 0.7676233635448136,\n",
       " 0.7374118831822759,\n",
       " 0.6790030211480362,\n",
       " 0.7386706948640483]"
      ]
     },
     "execution_count": 11,
     "metadata": {
      "tags": []
     },
     "output_type": "execute_result"
    }
   ],
   "source": [
    "accs = []\n",
    "for i,clf in enumerate(classifiers):\n",
    "  acc = clf.test_and_plot(tst_vecs[i],tst_labels,class_num=2)\n",
    "  print(acc,clf.classifier.__class__.__name__,clf.params)\n",
    "  accs.append(acc)\n",
    "  \n",
    "accs"
   ]
  },
  {
   "cell_type": "markdown",
   "metadata": {
    "colab_type": "text",
    "id": "p0Xe1xbGkrLU"
   },
   "source": [
    "# Subtask B"
   ]
  },
  {
   "cell_type": "markdown",
   "metadata": {
    "colab_type": "text",
    "id": "wMvWK7vRkz2K"
   },
   "source": [
    "## Reading data and splitting"
   ]
  },
  {
   "cell_type": "code",
   "execution_count": 5,
   "metadata": {
    "colab": {
     "base_uri": "https://localhost:8080/",
     "height": 34
    },
    "colab_type": "code",
    "id": "RgMwPKljkz2L",
    "outputId": "cde11448-7a22-40e0-86e9-029c1b9fd330"
   },
   "outputs": [
    {
     "name": "stderr",
     "output_type": "stream",
     "text": [
      "Reading Data: 13241it [00:00, 208164.30it/s]\n"
     ]
    }
   ],
   "source": [
    "dr_b = DataReader('./datasets/training-v1/offenseval-training-v1.tsv','B')\n",
    "data_b,labels_b = dr_b.get_labelled_data()\n",
    "data_b,labels_b = dr_b.shuffle(data_b,labels_b,'random')\n",
    "\n",
    "tr_data_b,tst_data_b,tr_labels_b,tst_labels_b = split(data_b,labels_b,test_size=0.3)"
   ]
  },
  {
   "cell_type": "markdown",
   "metadata": {
    "colab_type": "text",
    "id": "fta1SfiYkz2P"
   },
   "source": [
    "## Initializing objects"
   ]
  },
  {
   "cell_type": "code",
   "execution_count": null,
   "metadata": {
    "colab": {},
    "colab_type": "code",
    "id": "oLyMw8DTlKnW"
   },
   "outputs": [],
   "source": [
    "preprocessors_b = [('lemmatize'),('remove_stopwords','lemmatize'),\n",
    "        ('remove_stopwords','stem'),('remove_stopwords','lemmatize'),\n",
    "        ('remove_stopwords','lemmatize'),('remove_stopwords')]\n",
    "\n",
    "vectorizers_b = ['count','count','count','tfidf','glove']\n",
    "\n",
    "classifiers_b = [('RandomForest',{'n_estimators':30}),\n",
    "               ('LogisticRegression',{'penalty':'l2','solver':'sag'}),\n",
    "              ('M-NaiveBayes',{'alpha':5,'fit_prior':True}),\n",
    "              ('KNN',{'n_neighbors':5}),('SVC',{'C':10,'kernel':'rbf'})]\n",
    "\n",
    "for i in range(len(vectorizers_b)):\n",
    "  preprocessors_b[i] = Preprocessor(preprocessors_b[i])\n",
    "  vectorizers_b[i] = Vectorizer(vectorizers_b[i])\n",
    "  classifiers_b[i] = Classifier(*classifiers_b[i])"
   ]
  },
  {
   "cell_type": "markdown",
   "metadata": {
    "colab_type": "text",
    "id": "4qIoMpYOkz2S"
   },
   "source": [
    "## Training classifiers"
   ]
  },
  {
   "cell_type": "code",
   "execution_count": 7,
   "metadata": {
    "colab": {
     "base_uri": "https://localhost:8080/",
     "height": 119
    },
    "colab_type": "code",
    "id": "o4M3f3SZkz2S",
    "outputId": "cfa938e8-7cf7-4e10-d32c-bf3c4ac6db0d"
   },
   "outputs": [
    {
     "name": "stderr",
     "output_type": "stream",
     "text": [
      "Vectorizing: 100%|██████████| 3080/3080 [00:00<00:00, 23458.25it/s]\n",
      "Finalizing: 100%|██████████| 3080/3080 [00:01<00:00, 2512.79it/s]\n"
     ]
    },
    {
     "name": "stdout",
     "output_type": "stream",
     "text": [
      "\n",
      "Loading Glove Embeddings from api...\n"
     ]
    },
    {
     "name": "stderr",
     "output_type": "stream",
     "text": [
      "Vectorizing: 100%|██████████| 1320/1320 [00:00<00:00, 21736.58it/s]\n",
      "Finalizing: 100%|██████████| 1320/1320 [00:00<00:00, 2660.21it/s]\n"
     ]
    }
   ],
   "source": [
    "tst_vecs_b = []\n",
    "tr_vecs_b = []\n",
    "for i in range(len(classifiers_b)):\n",
    "  tr_data_clean_b = preprocessors_b[i].clean(tr_data_b)\n",
    "  tst_data_clean_b = preprocessors_b[i].clean(tst_data_b)\n",
    "  \n",
    "  tr_vecs_b.append(vectorizers_b[i].vectorize(tr_data_clean_b))\n",
    "  tst_vecs_b.append(vectorizers_b[i].vectorize(tst_data_clean_b))\n",
    "  \n",
    "  classifiers_b[i].fit(tr_vecs_b[i],tr_labels_b)"
   ]
  },
  {
   "cell_type": "markdown",
   "metadata": {
    "colab_type": "text",
    "id": "7wi9silMkz2V"
   },
   "source": [
    "## Testing and plotting"
   ]
  },
  {
   "cell_type": "code",
   "execution_count": 12,
   "metadata": {
    "colab": {
     "base_uri": "https://localhost:8080/",
     "height": 1657
    },
    "colab_type": "code",
    "id": "btwyY0BDkz2W",
    "outputId": "8e13c071-edb5-4da1-9475-5c5b5d21f4e1"
   },
   "outputs": [
    {
     "data": {
      "image/png": "[encoded data removed]",
      "text/plain": [
       "<matplotlib.figure.Figure at 0x7fcfe8249748>"
      ]
     },
     "metadata": {
      "tags": []
     },
     "output_type": "display_data"
    },
    {
     "name": "stdout",
     "output_type": "stream",
     "text": [
      "0.8787878787878788 RandomForestClassifier {'n_estimators': 30}\n"
     ]
    },
    {
     "data": {
      "image/png": "[encoded data removed]",
      "text/plain": [
       "<matplotlib.figure.Figure at 0x7fcfe8244080>"
      ]
     },
     "metadata": {
      "tags": []
     },
     "output_type": "display_data"
    },
    {
     "name": "stdout",
     "output_type": "stream",
     "text": [
      "0.8757575757575757 LogisticRegression {'penalty': 'l2', 'solver': 'sag'}\n"
     ]
    },
    {
     "data": {
      "image/png": "[encoded data removed]",
      "text/plain": [
       "<matplotlib.figure.Figure at 0x7fcfe80b9be0>"
      ]
     },
     "metadata": {
      "tags": []
     },
     "output_type": "display_data"
    },
    {
     "name": "stdout",
     "output_type": "stream",
     "text": [
      "0.884090909090909 MultinomialNB {'alpha': 5, 'fit_prior': True}\n"
     ]
    },
    {
     "data": {
      "image/png": "[encoded data removed]",
      "text/plain": [
       "<matplotlib.figure.Figure at 0x7fcfe8124c88>"
      ]
     },
     "metadata": {
      "tags": []
     },
     "output_type": "display_data"
    },
    {
     "name": "stdout",
     "output_type": "stream",
     "text": [
      "0.878030303030303 KNeighborsClassifier {'n_neighbors': 5}\n"
     ]
    },
    {
     "data": {
      "image/png": "[encoded data removed]",
      "text/plain": [
       "<matplotlib.figure.Figure at 0x7fcfe803b400>"
      ]
     },
     "metadata": {
      "tags": []
     },
     "output_type": "display_data"
    },
    {
     "name": "stdout",
     "output_type": "stream",
     "text": [
      "0.8833333333333333 SVC {'C': 10, 'kernel': 'rbf'}\n"
     ]
    },
    {
     "data": {
      "text/plain": [
       "[0.8787878787878788,\n",
       " 0.8757575757575757,\n",
       " 0.884090909090909,\n",
       " 0.878030303030303,\n",
       " 0.8833333333333333]"
      ]
     },
     "execution_count": 12,
     "metadata": {
      "tags": []
     },
     "output_type": "execute_result"
    }
   ],
   "source": [
    "accs_b = []\n",
    "for i,clf in enumerate(classifiers_b):\n",
    "  acc = clf.test_and_plot(tst_vecs_b[i],tst_labels_b,class_num=2)\n",
    "  print(acc,clf.classifier.__name__,clf.params)\n",
    "  accs_b.append(acc)\n",
    "  \n",
    "accs_b"
   ]
  },
  {
   "cell_type": "markdown",
   "metadata": {
    "colab_type": "text",
    "id": "vQ_1HxhklyFF"
   },
   "source": [
    "# Subtask C"
   ]
  },
  {
   "cell_type": "markdown",
   "metadata": {
    "colab_type": "text",
    "id": "Ku0YPPgjlyFF"
   },
   "source": [
    "## Reading data and splitting"
   ]
  },
  {
   "cell_type": "code",
   "execution_count": 17,
   "metadata": {
    "colab": {
     "base_uri": "https://localhost:8080/",
     "height": 34
    },
    "colab_type": "code",
    "id": "C2MkuedIlyFG",
    "outputId": "a3119696-fbeb-4509-be3e-8e9f46ca36a2"
   },
   "outputs": [
    {
     "name": "stderr",
     "output_type": "stream",
     "text": [
      "Reading Data: 13241it [00:00, 214260.61it/s]\n"
     ]
    }
   ],
   "source": [
    "dr_c = DataReader('./datasets/training-v1/offenseval-training-v1.tsv','C')\n",
    "data_c,labels_c = dr_c.get_labelled_data()\n",
    "data_c,labels_c = dr_c.shuffle(data_c,labels_c,'random')\n",
    "\n",
    "tr_data_c,tst_data_c,tr_labels_c,tst_labels_c = split(data_c,labels_c,test_size=0.3)"
   ]
  },
  {
   "cell_type": "markdown",
   "metadata": {
    "colab_type": "text",
    "id": "SQyaJvqQlyFJ"
   },
   "source": [
    "## Initializing objects"
   ]
  },
  {
   "cell_type": "code",
   "execution_count": null,
   "metadata": {
    "colab": {},
    "colab_type": "code",
    "id": "tjliRJSGlyFK"
   },
   "outputs": [],
   "source": [
    "preprocessors_c = [('lemmatize'),('remove_stopwords','lemmatize'),\n",
    "        ('remove_stopwords','stem'),('remove_stopwords','lemmatize'),\n",
    "        ('remove_stopwords','lemmatize'),('remove_stopwords')]\n",
    "\n",
    "vectorizers_c = ['count','count','count','tfidf','glove']\n",
    "\n",
    "classifiers_c = [('RandomForest',{'n_estimators':30}),\n",
    "               ('LogisticRegression',{'penalty':'l2','solver':'sag'}),\n",
    "              ('M-NaiveBayes',{'alpha':5,'fit_prior':True}),\n",
    "              ('KNN',{'n_neighbors':5}),('SVC',{'C':10,'kernel':'rbf'})]\n",
    "\n",
    "for i in range(len(vectorizers_c)):\n",
    "  preprocessors_c[i] = Preprocessor(preprocessors_c[i])\n",
    "  vectorizers_c[i] = Vectorizer(vectorizers_c[i])\n",
    "  classifiers_c[i] = Classifier(*classifiers_c[i])"
   ]
  },
  {
   "cell_type": "markdown",
   "metadata": {
    "colab_type": "text",
    "id": "ba_tow8qlyFT"
   },
   "source": [
    "## Training classifiers"
   ]
  },
  {
   "cell_type": "code",
   "execution_count": null,
   "metadata": {
    "colab": {},
    "colab_type": "code",
    "id": "xYKl1wBZlyFU"
   },
   "outputs": [],
   "source": [
    "tst_vecs_c = []\n",
    "tr_vecs_c = []\n",
    "for i in range(len(classifiers_c)):\n",
    "  tr_data_clean_c = preprocessors_c[i].clean(tr_data_c)\n",
    "  tst_data_clean_c = preprocessors_c[i].clean(tst_data_c)\n",
    "  \n",
    "  tr_vecs_c.append(vectorizers_c[i].vectorize(tr_data_clean_c))\n",
    "  tst_vecs_c.append(vectorizers_c[i].vectorize(tst_data_clean_c))\n",
    "  \n",
    "  classifiers_c[i].fit(tr_vecs_c[i],tr_labels_c)"
   ]
  },
  {
   "cell_type": "markdown",
   "metadata": {
    "colab_type": "text",
    "id": "2KaNrNoxlyFW"
   },
   "source": [
    "## Testing and plotting"
   ]
  },
  {
   "cell_type": "code",
   "execution_count": 20,
   "metadata": {
    "colab": {
     "base_uri": "https://localhost:8080/",
     "height": 1657
    },
    "colab_type": "code",
    "id": "_l3B4ocslyFZ",
    "outputId": "6e84a419-4f7b-4f81-f79d-6ce76e90c951"
   },
   "outputs": [
    {
     "data": {
      "image/png": "[encoded data removed]",
      "text/plain": [
       "<matplotlib.figure.Figure at 0x7fcfee6bcb00>"
      ]
     },
     "metadata": {
      "tags": []
     },
     "output_type": "display_data"
    },
    {
     "name": "stdout",
     "output_type": "stream",
     "text": [
      "0.70335339638865 RandomForestClassifier {'n_estimators': 30}\n"
     ]
    },
    {
     "data": {
      "image/png": "[encoded data removed]",
      "text/plain": [
       "<matplotlib.figure.Figure at 0x7fcfe4c3fdd8>"
      ]
     },
     "metadata": {
      "tags": []
     },
     "output_type": "display_data"
    },
    {
     "name": "stdout",
     "output_type": "stream",
     "text": [
      "0.6775580395528805 LogisticRegression {'penalty': 'l2', 'solver': 'sag'}\n"
     ]
    },
    {
     "data": {
      "image/png": "[encoded data removed]",
      "text/plain": [
       "<matplotlib.figure.Figure at 0x7fcfe4b9f160>"
      ]
     },
     "metadata": {
      "tags": []
     },
     "output_type": "display_data"
    },
    {
     "name": "stdout",
     "output_type": "stream",
     "text": [
      "0.6715391229578676 MultinomialNB {'alpha': 5, 'fit_prior': True}\n"
     ]
    },
    {
     "data": {
      "image/png": "[encoded data removed]",
      "text/plain": [
       "<matplotlib.figure.Figure at 0x7fcfcf090978>"
      ]
     },
     "metadata": {
      "tags": []
     },
     "output_type": "display_data"
    },
    {
     "name": "stdout",
     "output_type": "stream",
     "text": [
      "0.6319862424763543 KNeighborsClassifier {'n_neighbors': 5}\n"
     ]
    },
    {
     "data": {
      "image/png": "[encoded data removed]",
      "text/plain": [
       "<matplotlib.figure.Figure at 0x7fcfe4b820f0>"
      ]
     },
     "metadata": {
      "tags": []
     },
     "output_type": "display_data"
    },
    {
     "name": "stdout",
     "output_type": "stream",
     "text": [
      "0.641444539982803 SVC {'C': 10, 'kernel': 'rbf'}\n"
     ]
    },
    {
     "data": {
      "text/plain": [
       "[0.70335339638865,\n",
       " 0.6775580395528805,\n",
       " 0.6715391229578676,\n",
       " 0.6319862424763543,\n",
       " 0.641444539982803]"
      ]
     },
     "execution_count": 20,
     "metadata": {
      "tags": []
     },
     "output_type": "execute_result"
    }
   ],
   "source": [
    "accs_c = []\n",
    "for i,clf in enumerate(classifiers_c):\n",
    "  acc = clf.test_and_plot(tst_vecs_c[i],tst_labels_c,class_num=3)\n",
    "  print(acc,clf.classifier.__name__,clf.params)\n",
    "  accs_c.append(acc)\n",
    "  \n",
    "accs_c"
   ]
  },
  {
   "cell_type": "markdown",
   "metadata": {
    "colab_type": "text",
    "id": "-GRp8Nqg1DmU"
   },
   "source": [
    "# Neural Nets"
   ]
  },
  {
   "cell_type": "markdown",
   "metadata": {
    "colab_type": "text",
    "id": "MnN7eexD1GTz"
   },
   "source": [
    "## Subtask A"
   ]
  },
  {
   "cell_type": "markdown",
   "metadata": {
    "colab_type": "text",
    "id": "kHvhq8X3HZBq"
   },
   "source": [
    "### Reading data and cleaning"
   ]
  },
  {
   "cell_type": "code",
   "execution_count": null,
   "metadata": {
    "colab": {},
    "colab_type": "code",
    "id": "btbz4srU1KNh"
   },
   "outputs": [],
   "source": [
    "dr_nn = DataReader('./datasets/training-v1/offenseval-training-v1.tsv','A')\n",
    "data_nn,labels_nn = dr_nn.get_labelled_data()\n",
    "data_nn,labels_nn = dr_nn.shuffle(data_nn,labels_nn,'random')\n",
    "\n",
    "tr_data_nn,tst_data_nn,tr_labels_nn,tst_labels_nn = split(data_nn,labels_nn,test_size=0.3)\n",
    "\n",
    "prp = Preprocessor('remove_stopwords','lemmatize')\n",
    "tr_data_clean_nn = prp.clean(tr_data_nn)\n",
    "tst_data_clean_nn = prp.clean(tst_data_nn)\n",
    "\n",
    "vct = Vectorizer('count')\n",
    "vct.vectorize(tr_data_clean_nn)"
   ]
  },
  {
   "cell_type": "markdown",
   "metadata": {
    "colab_type": "text",
    "id": "mDBVwCX0GpV2"
   },
   "source": [
    "### Training LSTM"
   ]
  },
  {
   "cell_type": "code",
   "execution_count": 9,
   "metadata": {
    "colab": {
     "base_uri": "https://localhost:8080/",
     "height": 2329
    },
    "colab_type": "code",
    "id": "7DJNEe6117_a",
    "outputId": "a758a74c-176a-4f2b-8e80-42f72271a5d0"
   },
   "outputs": [
    {
     "name": "stdout",
     "output_type": "stream",
     "text": [
      "_________________________________________________________________\n",
      "Layer (type)                 Output Shape              Param #   \n",
      "=================================================================\n",
      "embedding_3 (Embedding)      (None, 44, 30)            386370    \n",
      "_________________________________________________________________\n",
      "lstm_3 (LSTM)                (None, 200)               184800    \n",
      "_________________________________________________________________\n",
      "dense_5 (Dense)              (None, 44)                8844      \n",
      "_________________________________________________________________\n",
      "dense_6 (Dense)              (None, 2)                 90        \n",
      "=================================================================\n",
      "Total params: 580,104\n",
      "Trainable params: 580,104\n",
      "Non-trainable params: 0\n",
      "_________________________________________________________________\n",
      "Train on 7414 samples, validate on 1854 samples\n",
      "Epoch 1/60\n",
      "7414/7414 [==============================] - 18s 2ms/step - loss: 4.1223 - acc: 0.6658 - val_loss: 0.6438 - val_acc: 0.6634\n",
      "Epoch 2/60\n",
      "7414/7414 [==============================] - 16s 2ms/step - loss: 0.6370 - acc: 0.6685 - val_loss: 0.6391 - val_acc: 0.6634\n",
      "Epoch 3/60\n",
      "7414/7414 [==============================] - 16s 2ms/step - loss: 0.6362 - acc: 0.6685 - val_loss: 0.6390 - val_acc: 0.6634\n",
      "Epoch 4/60\n",
      "7414/7414 [==============================] - 16s 2ms/step - loss: 0.6364 - acc: 0.6685 - val_loss: 0.6399 - val_acc: 0.6634\n",
      "Epoch 5/60\n",
      "7414/7414 [==============================] - 16s 2ms/step - loss: 0.6357 - acc: 0.6685 - val_loss: 0.6392 - val_acc: 0.6634\n",
      "Epoch 6/60\n",
      "7414/7414 [==============================] - 16s 2ms/step - loss: 0.6358 - acc: 0.6685 - val_loss: 0.6391 - val_acc: 0.6634\n",
      "Epoch 7/60\n",
      "7414/7414 [==============================] - 16s 2ms/step - loss: 0.6357 - acc: 0.6685 - val_loss: 0.6389 - val_acc: 0.6634\n",
      "Epoch 8/60\n",
      "7414/7414 [==============================] - 16s 2ms/step - loss: 0.6355 - acc: 0.6685 - val_loss: 0.6391 - val_acc: 0.6634\n",
      "Epoch 9/60\n",
      "7414/7414 [==============================] - 16s 2ms/step - loss: 0.6357 - acc: 0.6685 - val_loss: 0.6391 - val_acc: 0.6634\n",
      "Epoch 10/60\n",
      "7414/7414 [==============================] - 16s 2ms/step - loss: 0.6355 - acc: 0.6685 - val_loss: 0.6389 - val_acc: 0.6634\n",
      "Epoch 11/60\n",
      "7414/7414 [==============================] - 16s 2ms/step - loss: 0.6358 - acc: 0.6685 - val_loss: 0.6390 - val_acc: 0.6634\n",
      "Epoch 12/60\n",
      "7414/7414 [==============================] - 16s 2ms/step - loss: 0.6356 - acc: 0.6685 - val_loss: 0.6389 - val_acc: 0.6634\n",
      "Epoch 13/60\n",
      "7414/7414 [==============================] - 16s 2ms/step - loss: 0.6355 - acc: 0.6685 - val_loss: 0.6389 - val_acc: 0.6634\n",
      "Epoch 14/60\n",
      "7414/7414 [==============================] - 16s 2ms/step - loss: 0.6355 - acc: 0.6685 - val_loss: 0.6389 - val_acc: 0.6634\n",
      "Epoch 15/60\n",
      "7414/7414 [==============================] - 16s 2ms/step - loss: 0.6356 - acc: 0.6685 - val_loss: 0.6388 - val_acc: 0.6634\n",
      "Epoch 16/60\n",
      "7414/7414 [==============================] - 16s 2ms/step - loss: 0.6356 - acc: 0.6685 - val_loss: 0.6389 - val_acc: 0.6634\n",
      "Epoch 17/60\n",
      "7414/7414 [==============================] - 16s 2ms/step - loss: 0.6356 - acc: 0.6685 - val_loss: 0.6390 - val_acc: 0.6634\n",
      "Epoch 18/60\n",
      "7414/7414 [==============================] - 16s 2ms/step - loss: 0.6355 - acc: 0.6685 - val_loss: 0.6390 - val_acc: 0.6634\n",
      "Epoch 19/60\n",
      "7414/7414 [==============================] - 16s 2ms/step - loss: 0.6356 - acc: 0.6685 - val_loss: 0.6388 - val_acc: 0.6634\n",
      "Epoch 20/60\n",
      "7414/7414 [==============================] - 17s 2ms/step - loss: 0.6356 - acc: 0.6685 - val_loss: 0.6388 - val_acc: 0.6634\n",
      "Epoch 21/60\n",
      "7414/7414 [==============================] - 16s 2ms/step - loss: 0.6356 - acc: 0.6685 - val_loss: 0.6390 - val_acc: 0.6634\n",
      "Epoch 22/60\n",
      "7414/7414 [==============================] - 16s 2ms/step - loss: 0.6354 - acc: 0.6685 - val_loss: 0.6393 - val_acc: 0.6634\n",
      "Epoch 23/60\n",
      "7414/7414 [==============================] - 16s 2ms/step - loss: 0.6356 - acc: 0.6685 - val_loss: 0.6388 - val_acc: 0.6634\n",
      "Epoch 24/60\n",
      "7414/7414 [==============================] - 16s 2ms/step - loss: 0.6353 - acc: 0.6685 - val_loss: 0.6388 - val_acc: 0.6634\n",
      "Epoch 25/60\n",
      "7414/7414 [==============================] - 16s 2ms/step - loss: 0.6357 - acc: 0.6685 - val_loss: 0.6388 - val_acc: 0.6634\n",
      "Epoch 26/60\n",
      "7414/7414 [==============================] - 16s 2ms/step - loss: 0.6371 - acc: 0.6685 - val_loss: 0.6389 - val_acc: 0.6634\n",
      "Epoch 27/60\n",
      "7414/7414 [==============================] - 16s 2ms/step - loss: 0.6358 - acc: 0.6685 - val_loss: 0.6390 - val_acc: 0.6634\n",
      "Epoch 28/60\n",
      "7414/7414 [==============================] - 16s 2ms/step - loss: 0.6360 - acc: 0.6685 - val_loss: 0.6389 - val_acc: 0.6634\n",
      "Epoch 29/60\n",
      "7414/7414 [==============================] - 16s 2ms/step - loss: 0.6356 - acc: 0.6685 - val_loss: 0.6392 - val_acc: 0.6634\n",
      "Epoch 30/60\n",
      "7414/7414 [==============================] - 16s 2ms/step - loss: 0.6357 - acc: 0.6685 - val_loss: 0.6393 - val_acc: 0.6634\n",
      "Epoch 31/60\n",
      "7414/7414 [==============================] - 16s 2ms/step - loss: 0.6355 - acc: 0.6685 - val_loss: 0.6395 - val_acc: 0.6634\n",
      "Epoch 32/60\n",
      "7414/7414 [==============================] - 16s 2ms/step - loss: 0.6356 - acc: 0.6685 - val_loss: 0.6389 - val_acc: 0.6634\n",
      "Epoch 33/60\n",
      "7414/7414 [==============================] - 16s 2ms/step - loss: 0.6358 - acc: 0.6685 - val_loss: 0.6396 - val_acc: 0.6634\n",
      "Epoch 34/60\n",
      "7414/7414 [==============================] - 16s 2ms/step - loss: 0.6355 - acc: 0.6685 - val_loss: 0.6388 - val_acc: 0.6634\n",
      "Epoch 35/60\n",
      "7414/7414 [==============================] - 16s 2ms/step - loss: 0.6355 - acc: 0.6685 - val_loss: 0.6401 - val_acc: 0.6634\n",
      "Epoch 36/60\n",
      "7414/7414 [==============================] - 16s 2ms/step - loss: 0.6403 - acc: 0.6685 - val_loss: 0.6393 - val_acc: 0.6634\n",
      "Epoch 37/60\n",
      "7414/7414 [==============================] - 16s 2ms/step - loss: 0.6360 - acc: 0.6685 - val_loss: 0.6388 - val_acc: 0.6634\n",
      "Epoch 38/60\n",
      "7414/7414 [==============================] - 16s 2ms/step - loss: 0.6358 - acc: 0.6685 - val_loss: 0.6391 - val_acc: 0.6634\n",
      "Epoch 39/60\n",
      "7414/7414 [==============================] - 17s 2ms/step - loss: 0.6357 - acc: 0.6685 - val_loss: 0.6395 - val_acc: 0.6634\n",
      "Epoch 40/60\n",
      "7414/7414 [==============================] - 16s 2ms/step - loss: 0.6358 - acc: 0.6685 - val_loss: 0.6388 - val_acc: 0.6634\n",
      "Epoch 41/60\n",
      "7414/7414 [==============================] - 16s 2ms/step - loss: 0.6357 - acc: 0.6685 - val_loss: 0.6392 - val_acc: 0.6634\n",
      "Epoch 42/60\n",
      "7414/7414 [==============================] - 16s 2ms/step - loss: 0.6362 - acc: 0.6685 - val_loss: 0.6389 - val_acc: 0.6634\n",
      "Epoch 43/60\n",
      "7414/7414 [==============================] - 17s 2ms/step - loss: 0.6355 - acc: 0.6685 - val_loss: 0.6390 - val_acc: 0.6634\n",
      "Epoch 44/60\n",
      "7414/7414 [==============================] - 16s 2ms/step - loss: 0.6360 - acc: 0.6685 - val_loss: 0.6404 - val_acc: 0.6634\n",
      "Epoch 45/60\n",
      "7414/7414 [==============================] - 16s 2ms/step - loss: 0.6357 - acc: 0.6685 - val_loss: 0.6390 - val_acc: 0.6634\n",
      "Epoch 46/60\n",
      "7414/7414 [==============================] - 16s 2ms/step - loss: 0.6358 - acc: 0.6685 - val_loss: 0.6393 - val_acc: 0.6634\n",
      "Epoch 47/60\n",
      "7414/7414 [==============================] - 16s 2ms/step - loss: 0.6359 - acc: 0.6685 - val_loss: 0.6389 - val_acc: 0.6634\n",
      "Epoch 48/60\n",
      "7414/7414 [==============================] - 16s 2ms/step - loss: 0.6362 - acc: 0.6685 - val_loss: 0.6390 - val_acc: 0.6634\n",
      "Epoch 49/60\n",
      "7414/7414 [==============================] - 16s 2ms/step - loss: 0.6356 - acc: 0.6685 - val_loss: 0.6389 - val_acc: 0.6634\n",
      "Epoch 50/60\n",
      "7414/7414 [==============================] - 16s 2ms/step - loss: 0.6354 - acc: 0.6685 - val_loss: 0.6388 - val_acc: 0.6634\n",
      "Epoch 51/60\n",
      "7414/7414 [==============================] - 16s 2ms/step - loss: 0.6356 - acc: 0.6685 - val_loss: 0.6399 - val_acc: 0.6634\n",
      "Epoch 52/60\n",
      "7414/7414 [==============================] - 16s 2ms/step - loss: 0.6357 - acc: 0.6685 - val_loss: 0.6391 - val_acc: 0.6634\n",
      "Epoch 53/60\n",
      "7414/7414 [==============================] - 16s 2ms/step - loss: 0.6355 - acc: 0.6685 - val_loss: 0.6389 - val_acc: 0.6634\n",
      "Epoch 54/60\n",
      "7414/7414 [==============================] - 16s 2ms/step - loss: 0.6357 - acc: 0.6685 - val_loss: 0.6391 - val_acc: 0.6634\n",
      "Epoch 55/60\n",
      "7414/7414 [==============================] - 16s 2ms/step - loss: 0.6373 - acc: 0.6685 - val_loss: 0.6994 - val_acc: 0.6634\n",
      "Epoch 56/60\n",
      "7414/7414 [==============================] - 16s 2ms/step - loss: 0.6390 - acc: 0.6685 - val_loss: 0.6388 - val_acc: 0.6634\n",
      "Epoch 57/60\n",
      "7414/7414 [==============================] - 16s 2ms/step - loss: 0.6354 - acc: 0.6685 - val_loss: 0.6398 - val_acc: 0.6634\n",
      "Epoch 58/60\n",
      "7414/7414 [==============================] - 17s 2ms/step - loss: 0.6360 - acc: 0.6685 - val_loss: 0.6392 - val_acc: 0.6634\n",
      "Epoch 59/60\n",
      "7414/7414 [==============================] - 16s 2ms/step - loss: 0.6357 - acc: 0.6685 - val_loss: 0.6393 - val_acc: 0.6634\n",
      "Epoch 60/60\n",
      "7414/7414 [==============================] - 16s 2ms/step - loss: 0.6357 - acc: 0.6685 - val_loss: 0.6389 - val_acc: 0.6634\n"
     ]
    }
   ],
   "source": [
    "lstm = DeepLearner(tr_data_clean_nn,tr_labels_nn,vocab_length=vct.vocab_length,model_type='LSTM')\n",
    "lstm.train(epochs=60)"
   ]
  },
  {
   "cell_type": "markdown",
   "metadata": {
    "colab_type": "text",
    "id": "QVcvpSnKGrPr"
   },
   "source": [
    "### Testing LSTM and plotting"
   ]
  },
  {
   "cell_type": "code",
   "execution_count": 10,
   "metadata": {
    "colab": {
     "base_uri": "https://localhost:8080/",
     "height": 345
    },
    "colab_type": "code",
    "id": "vXn2cQ-PBlWL",
    "outputId": "44a97efb-7be8-42c6-dd6f-5ab512f0374b"
   },
   "outputs": [
    {
     "data": {
      "image/png": "[encoded data removed]",
      "text/plain": [
       "<matplotlib.figure.Figure at 0x7f7ab35ca860>"
      ]
     },
     "metadata": {
      "tags": []
     },
     "output_type": "display_data"
    },
    {
     "name": "stdout",
     "output_type": "stream",
     "text": [
      "3972/3972 [==============================] - 2s 524us/step\n",
      "LSTM (['loss', 'acc'], [0.6355910050905003, 0.6681772406847936])\n"
     ]
    }
   ],
   "source": [
    "acc = lstm.test_and_plot(tst_data_clean_nn,tst_labels_nn)\n",
    "print('LSTM',acc)"
   ]
  },
  {
   "cell_type": "markdown",
   "metadata": {
    "colab_type": "text",
    "id": "tt61VYU1GytO"
   },
   "source": [
    "### Training CNN"
   ]
  },
  {
   "cell_type": "code",
   "execution_count": 30,
   "metadata": {
    "colab": {
     "base_uri": "https://localhost:8080/",
     "height": 799
    },
    "colab_type": "code",
    "id": "sfVRBuc618iG",
    "outputId": "6dd8a76a-a8f4-40e9-d99a-7eaaa44339eb"
   },
   "outputs": [
    {
     "name": "stdout",
     "output_type": "stream",
     "text": [
      "_________________________________________________________________\n",
      "Layer (type)                 Output Shape              Param #   \n",
      "=================================================================\n",
      "embedding_12 (Embedding)     (None, 44, 30)            194340    \n",
      "_________________________________________________________________\n",
      "conv1d_16 (Conv1D)           (None, 40, 64)            9664      \n",
      "_________________________________________________________________\n",
      "dropout_11 (Dropout)         (None, 40, 64)            0         \n",
      "_________________________________________________________________\n",
      "conv1d_17 (Conv1D)           (None, 38, 32)            6176      \n",
      "_________________________________________________________________\n",
      "dropout_12 (Dropout)         (None, 38, 32)            0         \n",
      "_________________________________________________________________\n",
      "conv1d_18 (Conv1D)           (None, 36, 16)            1552      \n",
      "_________________________________________________________________\n",
      "max_pooling1d_6 (MaxPooling1 (None, 7, 16)             0         \n",
      "_________________________________________________________________\n",
      "flatten_6 (Flatten)          (None, 112)               0         \n",
      "_________________________________________________________________\n",
      "dense_18 (Dense)             (None, 2)                 226       \n",
      "=================================================================\n",
      "Total params: 211,958\n",
      "Trainable params: 211,958\n",
      "Non-trainable params: 0\n",
      "_________________________________________________________________\n",
      "Train on 7414 samples, validate on 1854 samples\n",
      "Epoch 1/10\n",
      "7414/7414 [==============================] - 5s 695us/step - loss: 0.6371 - acc: 0.6685 - val_loss: 0.6383 - val_acc: 0.6634\n",
      "Epoch 2/10\n",
      "7414/7414 [==============================] - 3s 393us/step - loss: 0.6248 - acc: 0.6733 - val_loss: 0.6068 - val_acc: 0.6742\n",
      "Epoch 3/10\n",
      "7414/7414 [==============================] - 3s 381us/step - loss: 0.5380 - acc: 0.7346 - val_loss: 0.5670 - val_acc: 0.7098\n",
      "Epoch 4/10\n",
      "7414/7414 [==============================] - 3s 379us/step - loss: 0.4184 - acc: 0.8110 - val_loss: 0.6201 - val_acc: 0.7087\n",
      "Epoch 5/10\n",
      "7414/7414 [==============================] - 3s 383us/step - loss: 0.3323 - acc: 0.8693 - val_loss: 0.6714 - val_acc: 0.7136\n",
      "Epoch 6/10\n",
      "7414/7414 [==============================] - 3s 388us/step - loss: 0.2756 - acc: 0.9030 - val_loss: 0.7258 - val_acc: 0.7050\n",
      "Epoch 7/10\n",
      "7414/7414 [==============================] - 3s 386us/step - loss: 0.2315 - acc: 0.9228 - val_loss: 0.7766 - val_acc: 0.7082\n",
      "Epoch 8/10\n",
      "7414/7414 [==============================] - 3s 377us/step - loss: 0.2041 - acc: 0.9349 - val_loss: 0.8232 - val_acc: 0.6931\n",
      "Epoch 9/10\n",
      "7414/7414 [==============================] - 3s 379us/step - loss: 0.1755 - acc: 0.9443 - val_loss: 0.8684 - val_acc: 0.7023\n",
      "Epoch 10/10\n",
      "7414/7414 [==============================] - 3s 396us/step - loss: 0.1561 - acc: 0.9525 - val_loss: 0.9241 - val_acc: 0.6909\n"
     ]
    }
   ],
   "source": [
    "cnn = DeepLearner(tr_data_clean_nn,tr_labels_nn,vocab_length=vct.vocab_length,model_type='CNN')\n",
    "cnn.train(epochs=10)"
   ]
  },
  {
   "cell_type": "markdown",
   "metadata": {
    "colab_type": "text",
    "id": "JwLPYYEhG0z4"
   },
   "source": [
    "### Testing CNN and plotting"
   ]
  },
  {
   "cell_type": "code",
   "execution_count": 31,
   "metadata": {
    "colab": {
     "base_uri": "https://localhost:8080/",
     "height": 345
    },
    "colab_type": "code",
    "id": "0Q1pj6yb-LEx",
    "outputId": "a3744285-c9d5-44a2-e88f-3b71f0ac7e1b"
   },
   "outputs": [
    {
     "data": {
      "image/png": "[encoded data removed]",
      "text/plain": [
       "<matplotlib.figure.Figure at 0x7f7ab9ece1d0>"
      ]
     },
     "metadata": {
      "tags": []
     },
     "output_type": "display_data"
    },
    {
     "name": "stdout",
     "output_type": "stream",
     "text": [
      "3972/3972 [==============================] - 0s 104us/step\n",
      "CNN (['loss', 'acc'], [0.902804250743574, 0.7066968781470292])\n"
     ]
    }
   ],
   "source": [
    "acc = cnn.test_and_plot(tst_data_clean_nn,tst_labels_nn)\n",
    "print('CNN',acc)"
   ]
  },
  {
   "cell_type": "markdown",
   "metadata": {
    "colab_type": "text",
    "id": "IydzgOJF5uI-"
   },
   "source": [
    "## Subtask B"
   ]
  },
  {
   "cell_type": "markdown",
   "metadata": {
    "colab_type": "text",
    "id": "y4iFyXuCHW6x"
   },
   "source": [
    "### Reading data and cleaning"
   ]
  },
  {
   "cell_type": "code",
   "execution_count": null,
   "metadata": {
    "colab": {},
    "colab_type": "code",
    "id": "teobMyll5uI-"
   },
   "outputs": [],
   "source": [
    "dr_nn_b = DataReader('./datasets/training-v1/offenseval-training-v1.tsv','B')\n",
    "data_nn_b,labels_nn_b = dr_nn_b.get_labelled_data()\n",
    "data_nn_b,labels_nn_b = dr_nn_b.shuffle(data_nn_b,labels_nn_b,'random')\n",
    "\n",
    "tr_data_nn_b,tst_data_nn_b,tr_labels_nn_b,tst_labels_nn_b = split(data_nn_b,labels_nn_b,test_size=0.3)\n",
    "\n",
    "prp = Preprocessor('remove_stopwords','lemmatize')\n",
    "tr_data_clean_nn_b = prp.clean(tr_data_nn_b)\n",
    "tst_data_clean_nn_b = prp.clean(tst_data_nn_b)\n",
    "\n",
    "vct = Vectorizer('count')\n",
    "vct.vectorize(tr_data_clean_nn_b)"
   ]
  },
  {
   "cell_type": "markdown",
   "metadata": {
    "colab_type": "text",
    "id": "nKk1wEJ2G3rh"
   },
   "source": [
    "### Training LSTM"
   ]
  },
  {
   "cell_type": "code",
   "execution_count": 16,
   "metadata": {
    "colab": {
     "base_uri": "https://localhost:8080/",
     "height": 2329
    },
    "colab_type": "code",
    "id": "Uw4a9N0o5uJG",
    "outputId": "73a0dc82-a166-4f65-ba6f-0fdb4fc04c48"
   },
   "outputs": [
    {
     "name": "stdout",
     "output_type": "stream",
     "text": [
      "_________________________________________________________________\n",
      "Layer (type)                 Output Shape              Param #   \n",
      "=================================================================\n",
      "embedding_6 (Embedding)      (None, 41, 30)            205890    \n",
      "_________________________________________________________________\n",
      "lstm_5 (LSTM)                (None, 200)               184800    \n",
      "_________________________________________________________________\n",
      "dense_10 (Dense)             (None, 41)                8241      \n",
      "_________________________________________________________________\n",
      "dense_11 (Dense)             (None, 2)                 84        \n",
      "=================================================================\n",
      "Total params: 399,015\n",
      "Trainable params: 399,015\n",
      "Non-trainable params: 0\n",
      "_________________________________________________________________\n",
      "Train on 2464 samples, validate on 616 samples\n",
      "Epoch 1/60\n",
      "2464/2464 [==============================] - 7s 3ms/step - loss: 10.2279 - acc: 0.8791 - val_loss: 0.8589 - val_acc: 0.9107\n",
      "Epoch 2/60\n",
      "2464/2464 [==============================] - 5s 2ms/step - loss: 0.5230 - acc: 0.8795 - val_loss: 0.3527 - val_acc: 0.9107\n",
      "Epoch 3/60\n",
      "2464/2464 [==============================] - 5s 2ms/step - loss: 0.3998 - acc: 0.8795 - val_loss: 0.3301 - val_acc: 0.9107\n",
      "Epoch 4/60\n",
      "2464/2464 [==============================] - 5s 2ms/step - loss: 0.3861 - acc: 0.8795 - val_loss: 0.3284 - val_acc: 0.9107\n",
      "Epoch 5/60\n",
      "2464/2464 [==============================] - 5s 2ms/step - loss: 0.3803 - acc: 0.8795 - val_loss: 0.3297 - val_acc: 0.9107\n",
      "Epoch 6/60\n",
      "2464/2464 [==============================] - 5s 2ms/step - loss: 0.3803 - acc: 0.8795 - val_loss: 0.3105 - val_acc: 0.9107\n",
      "Epoch 7/60\n",
      "2464/2464 [==============================] - 5s 2ms/step - loss: 0.3761 - acc: 0.8795 - val_loss: 0.3085 - val_acc: 0.9107\n",
      "Epoch 8/60\n",
      "2464/2464 [==============================] - 5s 2ms/step - loss: 0.3747 - acc: 0.8795 - val_loss: 0.3112 - val_acc: 0.9107\n",
      "Epoch 9/60\n",
      "2464/2464 [==============================] - 5s 2ms/step - loss: 0.3748 - acc: 0.8795 - val_loss: 0.3078 - val_acc: 0.9107\n",
      "Epoch 10/60\n",
      "2464/2464 [==============================] - 5s 2ms/step - loss: 0.3708 - acc: 0.8795 - val_loss: 0.3057 - val_acc: 0.9107\n",
      "Epoch 11/60\n",
      "2464/2464 [==============================] - 5s 2ms/step - loss: 0.3711 - acc: 0.8795 - val_loss: 0.3135 - val_acc: 0.9107\n",
      "Epoch 12/60\n",
      "2464/2464 [==============================] - 5s 2ms/step - loss: 0.3705 - acc: 0.8795 - val_loss: 0.3090 - val_acc: 0.9107\n",
      "Epoch 13/60\n",
      "2464/2464 [==============================] - 5s 2ms/step - loss: 0.3700 - acc: 0.8795 - val_loss: 0.3060 - val_acc: 0.9107\n",
      "Epoch 14/60\n",
      "2464/2464 [==============================] - 5s 2ms/step - loss: 0.3707 - acc: 0.8795 - val_loss: 0.3069 - val_acc: 0.9107\n",
      "Epoch 15/60\n",
      "2464/2464 [==============================] - 5s 2ms/step - loss: 0.3691 - acc: 0.8795 - val_loss: 0.3071 - val_acc: 0.9107\n",
      "Epoch 16/60\n",
      "2464/2464 [==============================] - 5s 2ms/step - loss: 0.3686 - acc: 0.8795 - val_loss: 0.3029 - val_acc: 0.9107\n",
      "Epoch 17/60\n",
      "2464/2464 [==============================] - 5s 2ms/step - loss: 0.3725 - acc: 0.8795 - val_loss: 0.3101 - val_acc: 0.9107\n",
      "Epoch 18/60\n",
      "2464/2464 [==============================] - 5s 2ms/step - loss: 0.3703 - acc: 0.8795 - val_loss: 0.3148 - val_acc: 0.9107\n",
      "Epoch 19/60\n",
      "2464/2464 [==============================] - 5s 2ms/step - loss: 0.3689 - acc: 0.8795 - val_loss: 0.3076 - val_acc: 0.9107\n",
      "Epoch 20/60\n",
      "2464/2464 [==============================] - 5s 2ms/step - loss: 0.3704 - acc: 0.8795 - val_loss: 0.3103 - val_acc: 0.9107\n",
      "Epoch 21/60\n",
      "2464/2464 [==============================] - 5s 2ms/step - loss: 0.3694 - acc: 0.8795 - val_loss: 0.3026 - val_acc: 0.9107\n",
      "Epoch 22/60\n",
      "2464/2464 [==============================] - 5s 2ms/step - loss: 0.3701 - acc: 0.8795 - val_loss: 0.3067 - val_acc: 0.9107\n",
      "Epoch 23/60\n",
      "2464/2464 [==============================] - 5s 2ms/step - loss: 0.3686 - acc: 0.8795 - val_loss: 0.3105 - val_acc: 0.9107\n",
      "Epoch 24/60\n",
      "2464/2464 [==============================] - 5s 2ms/step - loss: 0.3696 - acc: 0.8795 - val_loss: 0.3087 - val_acc: 0.9107\n",
      "Epoch 25/60\n",
      "2464/2464 [==============================] - 5s 2ms/step - loss: 0.3692 - acc: 0.8795 - val_loss: 0.3100 - val_acc: 0.9107\n",
      "Epoch 26/60\n",
      "2464/2464 [==============================] - 5s 2ms/step - loss: 0.3693 - acc: 0.8795 - val_loss: 0.3061 - val_acc: 0.9107\n",
      "Epoch 27/60\n",
      "2464/2464 [==============================] - 5s 2ms/step - loss: 0.3687 - acc: 0.8795 - val_loss: 0.3141 - val_acc: 0.9107\n",
      "Epoch 28/60\n",
      "2464/2464 [==============================] - 5s 2ms/step - loss: 0.3691 - acc: 0.8795 - val_loss: 0.3082 - val_acc: 0.9107\n",
      "Epoch 29/60\n",
      "2464/2464 [==============================] - 5s 2ms/step - loss: 0.3688 - acc: 0.8795 - val_loss: 0.3041 - val_acc: 0.9107\n",
      "Epoch 30/60\n",
      "2464/2464 [==============================] - 5s 2ms/step - loss: 0.3697 - acc: 0.8795 - val_loss: 0.3053 - val_acc: 0.9107\n",
      "Epoch 31/60\n",
      "2464/2464 [==============================] - 5s 2ms/step - loss: 0.3683 - acc: 0.8795 - val_loss: 0.3063 - val_acc: 0.9107\n",
      "Epoch 32/60\n",
      "2464/2464 [==============================] - 5s 2ms/step - loss: 0.3688 - acc: 0.8795 - val_loss: 0.3064 - val_acc: 0.9107\n",
      "Epoch 33/60\n",
      "2464/2464 [==============================] - 5s 2ms/step - loss: 0.3707 - acc: 0.8795 - val_loss: 0.3089 - val_acc: 0.9107\n",
      "Epoch 34/60\n",
      "2464/2464 [==============================] - 5s 2ms/step - loss: 0.3695 - acc: 0.8795 - val_loss: 0.3057 - val_acc: 0.9107\n",
      "Epoch 35/60\n",
      "2464/2464 [==============================] - 5s 2ms/step - loss: 0.3686 - acc: 0.8795 - val_loss: 0.3050 - val_acc: 0.9107\n",
      "Epoch 36/60\n",
      "2464/2464 [==============================] - 5s 2ms/step - loss: 0.3684 - acc: 0.8795 - val_loss: 0.3047 - val_acc: 0.9107\n",
      "Epoch 37/60\n",
      "2464/2464 [==============================] - 5s 2ms/step - loss: 0.3684 - acc: 0.8795 - val_loss: 0.3076 - val_acc: 0.9107\n",
      "Epoch 38/60\n",
      "2464/2464 [==============================] - 5s 2ms/step - loss: 0.3691 - acc: 0.8795 - val_loss: 0.3058 - val_acc: 0.9107\n",
      "Epoch 39/60\n",
      "2464/2464 [==============================] - 5s 2ms/step - loss: 0.3687 - acc: 0.8795 - val_loss: 0.3054 - val_acc: 0.9107\n",
      "Epoch 40/60\n",
      "2464/2464 [==============================] - 5s 2ms/step - loss: 0.3686 - acc: 0.8795 - val_loss: 0.3055 - val_acc: 0.9107\n",
      "Epoch 41/60\n",
      "2464/2464 [==============================] - 5s 2ms/step - loss: 0.3682 - acc: 0.8795 - val_loss: 0.3077 - val_acc: 0.9107\n",
      "Epoch 42/60\n",
      "2464/2464 [==============================] - 5s 2ms/step - loss: 0.3686 - acc: 0.8795 - val_loss: 0.3056 - val_acc: 0.9107\n",
      "Epoch 43/60\n",
      "2464/2464 [==============================] - 5s 2ms/step - loss: 0.3684 - acc: 0.8795 - val_loss: 0.3053 - val_acc: 0.9107\n",
      "Epoch 44/60\n",
      "2464/2464 [==============================] - 5s 2ms/step - loss: 0.3685 - acc: 0.8795 - val_loss: 0.3055 - val_acc: 0.9107\n",
      "Epoch 45/60\n",
      "2464/2464 [==============================] - 5s 2ms/step - loss: 0.3689 - acc: 0.8795 - val_loss: 0.3088 - val_acc: 0.9107\n",
      "Epoch 46/60\n",
      "2464/2464 [==============================] - 5s 2ms/step - loss: 0.3686 - acc: 0.8795 - val_loss: 0.3069 - val_acc: 0.9107\n",
      "Epoch 47/60\n",
      "2464/2464 [==============================] - 5s 2ms/step - loss: 0.3685 - acc: 0.8795 - val_loss: 0.3054 - val_acc: 0.9107\n",
      "Epoch 48/60\n",
      "2464/2464 [==============================] - 5s 2ms/step - loss: 0.3684 - acc: 0.8795 - val_loss: 0.3074 - val_acc: 0.9107\n",
      "Epoch 49/60\n",
      "2464/2464 [==============================] - 5s 2ms/step - loss: 0.3686 - acc: 0.8795 - val_loss: 0.3061 - val_acc: 0.9107\n",
      "Epoch 50/60\n",
      "2464/2464 [==============================] - 5s 2ms/step - loss: 0.3685 - acc: 0.8795 - val_loss: 0.3072 - val_acc: 0.9107\n",
      "Epoch 51/60\n",
      "2464/2464 [==============================] - 5s 2ms/step - loss: 0.3683 - acc: 0.8795 - val_loss: 0.3057 - val_acc: 0.9107\n",
      "Epoch 52/60\n",
      "2464/2464 [==============================] - 5s 2ms/step - loss: 0.3684 - acc: 0.8795 - val_loss: 0.3067 - val_acc: 0.9107\n",
      "Epoch 53/60\n",
      "2464/2464 [==============================] - 5s 2ms/step - loss: 0.3684 - acc: 0.8795 - val_loss: 0.3060 - val_acc: 0.9107\n",
      "Epoch 54/60\n",
      "2464/2464 [==============================] - 5s 2ms/step - loss: 0.3683 - acc: 0.8795 - val_loss: 0.3066 - val_acc: 0.9107\n",
      "Epoch 55/60\n",
      "2464/2464 [==============================] - 5s 2ms/step - loss: 0.3682 - acc: 0.8795 - val_loss: 0.3057 - val_acc: 0.9107\n",
      "Epoch 56/60\n",
      "2464/2464 [==============================] - 5s 2ms/step - loss: 0.3681 - acc: 0.8795 - val_loss: 0.3065 - val_acc: 0.9107\n",
      "Epoch 57/60\n",
      "2464/2464 [==============================] - 5s 2ms/step - loss: 0.3685 - acc: 0.8795 - val_loss: 0.3066 - val_acc: 0.9107\n",
      "Epoch 58/60\n",
      "2464/2464 [==============================] - 5s 2ms/step - loss: 0.3684 - acc: 0.8795 - val_loss: 0.3058 - val_acc: 0.9107\n",
      "Epoch 59/60\n",
      "2464/2464 [==============================] - 5s 2ms/step - loss: 0.3682 - acc: 0.8795 - val_loss: 0.3064 - val_acc: 0.9107\n",
      "Epoch 60/60\n",
      "2464/2464 [==============================] - 5s 2ms/step - loss: 0.3684 - acc: 0.8795 - val_loss: 0.3060 - val_acc: 0.9107\n"
     ]
    }
   ],
   "source": [
    "lstm_b = DeepLearner(tr_data_clean_nn_b,tr_labels_nn_b,vocab_length=vct.vocab_length,model_type='LSTM')\n",
    "lstm_b.train(epochs=60)"
   ]
  },
  {
   "cell_type": "markdown",
   "metadata": {
    "colab_type": "text",
    "id": "lar239WoG588"
   },
   "source": [
    "### Testing LSTM and plotting"
   ]
  },
  {
   "cell_type": "code",
   "execution_count": 17,
   "metadata": {
    "colab": {
     "base_uri": "https://localhost:8080/",
     "height": 345
    },
    "colab_type": "code",
    "id": "bnFzlqvZGIv2",
    "outputId": "467e1a95-97da-4fd5-b017-2a3b90f38b75"
   },
   "outputs": [
    {
     "data": {
      "image/png": "[encoded data removed]",
      "text/plain": [
       "<matplotlib.figure.Figure at 0x7f7ab9dbaba8>"
      ]
     },
     "metadata": {
      "tags": []
     },
     "output_type": "display_data"
    },
    {
     "name": "stdout",
     "output_type": "stream",
     "text": [
      "1320/1320 [==============================] - 1s 511us/step\n",
      "LSTM (['loss', 'acc'], [0.3875281375465971, 0.8696969704194503])\n"
     ]
    }
   ],
   "source": [
    "acc = lstm_b.test_and_plot(tst_data_clean_nn_b,tst_labels_nn_b)\n",
    "print('LSTM',acc)"
   ]
  },
  {
   "cell_type": "markdown",
   "metadata": {
    "colab_type": "text",
    "id": "b4GRCnO0G8fC"
   },
   "source": [
    "### Training CNN"
   ]
  },
  {
   "cell_type": "code",
   "execution_count": 26,
   "metadata": {
    "colab": {
     "base_uri": "https://localhost:8080/",
     "height": 799
    },
    "colab_type": "code",
    "id": "9Y3LjCS95uJJ",
    "outputId": "23880f76-229f-424c-9c92-ae3a5239e010"
   },
   "outputs": [
    {
     "name": "stdout",
     "output_type": "stream",
     "text": [
      "_________________________________________________________________\n",
      "Layer (type)                 Output Shape              Param #   \n",
      "=================================================================\n",
      "embedding_10 (Embedding)     (None, 41, 30)            194340    \n",
      "_________________________________________________________________\n",
      "conv1d_10 (Conv1D)           (None, 37, 64)            9664      \n",
      "_________________________________________________________________\n",
      "dropout_7 (Dropout)          (None, 37, 64)            0         \n",
      "_________________________________________________________________\n",
      "conv1d_11 (Conv1D)           (None, 35, 32)            6176      \n",
      "_________________________________________________________________\n",
      "dropout_8 (Dropout)          (None, 35, 32)            0         \n",
      "_________________________________________________________________\n",
      "conv1d_12 (Conv1D)           (None, 33, 16)            1552      \n",
      "_________________________________________________________________\n",
      "max_pooling1d_4 (MaxPooling1 (None, 6, 16)             0         \n",
      "_________________________________________________________________\n",
      "flatten_4 (Flatten)          (None, 96)                0         \n",
      "_________________________________________________________________\n",
      "dense_16 (Dense)             (None, 2)                 194       \n",
      "=================================================================\n",
      "Total params: 211,926\n",
      "Trainable params: 211,926\n",
      "Non-trainable params: 0\n",
      "_________________________________________________________________\n",
      "Train on 2464 samples, validate on 616 samples\n",
      "Epoch 1/10\n",
      "2464/2464 [==============================] - 3s 1ms/step - loss: 0.3943 - acc: 0.8795 - val_loss: 0.3081 - val_acc: 0.9107\n",
      "Epoch 2/10\n",
      "2464/2464 [==============================] - 1s 352us/step - loss: 0.3679 - acc: 0.8795 - val_loss: 0.3035 - val_acc: 0.9107\n",
      "Epoch 3/10\n",
      "2464/2464 [==============================] - 1s 346us/step - loss: 0.3624 - acc: 0.8795 - val_loss: 0.2981 - val_acc: 0.9107\n",
      "Epoch 4/10\n",
      "2464/2464 [==============================] - 1s 350us/step - loss: 0.3377 - acc: 0.8795 - val_loss: 0.2911 - val_acc: 0.9107\n",
      "Epoch 5/10\n",
      "2464/2464 [==============================] - 1s 351us/step - loss: 0.2932 - acc: 0.8795 - val_loss: 0.2959 - val_acc: 0.9107\n",
      "Epoch 6/10\n",
      "2464/2464 [==============================] - 1s 357us/step - loss: 0.2565 - acc: 0.8795 - val_loss: 0.3020 - val_acc: 0.9107\n",
      "Epoch 7/10\n",
      "2464/2464 [==============================] - 1s 349us/step - loss: 0.2217 - acc: 0.8839 - val_loss: 0.3036 - val_acc: 0.9107\n",
      "Epoch 8/10\n",
      "2464/2464 [==============================] - 1s 348us/step - loss: 0.1626 - acc: 0.9265 - val_loss: 0.3273 - val_acc: 0.8977\n",
      "Epoch 9/10\n",
      "2464/2464 [==============================] - 1s 350us/step - loss: 0.1209 - acc: 0.9533 - val_loss: 0.3773 - val_acc: 0.8506\n",
      "Epoch 10/10\n",
      "2464/2464 [==============================] - 1s 345us/step - loss: 0.1022 - acc: 0.9586 - val_loss: 0.3921 - val_acc: 0.8523\n"
     ]
    }
   ],
   "source": [
    "cnn_b = DeepLearner(tr_data_clean_nn_b,tr_labels_nn_b,vocab_length=vct.vocab_length,model_type='CNN')\n",
    "cnn_b.train(epochs=10)"
   ]
  },
  {
   "cell_type": "markdown",
   "metadata": {
    "colab_type": "text",
    "id": "rDrIH-qBG_VR"
   },
   "source": [
    "### Testing CNN and plotting"
   ]
  },
  {
   "cell_type": "code",
   "execution_count": 27,
   "metadata": {
    "colab": {
     "base_uri": "https://localhost:8080/",
     "height": 345
    },
    "colab_type": "code",
    "id": "gr2Z2DrEGK5R",
    "outputId": "d5d7257e-f7a3-4258-c72b-d2f954761825"
   },
   "outputs": [
    {
     "data": {
      "image/png": "[encoded data removed]",
      "text/plain": [
       "<matplotlib.figure.Figure at 0x7f7aa789d048>"
      ]
     },
     "metadata": {
      "tags": []
     },
     "output_type": "display_data"
    },
    {
     "name": "stdout",
     "output_type": "stream",
     "text": [
      "1320/1320 [==============================] - 0s 92us/step\n",
      "CNN (['loss', 'acc'], [0.5748191519217057, 0.8287878795103594])\n"
     ]
    }
   ],
   "source": [
    "acc = cnn_b.test_and_plot(tst_data_clean_nn_b,tst_labels_nn_b)\n",
    "print('CNN',acc)"
   ]
  },
  {
   "cell_type": "markdown",
   "metadata": {
    "colab_type": "text",
    "id": "B9JEFada6NkO"
   },
   "source": [
    "## Subtask C"
   ]
  },
  {
   "cell_type": "markdown",
   "metadata": {
    "colab_type": "text",
    "id": "UkR-jWKPHSeI"
   },
   "source": [
    "### Reading data and cleaning"
   ]
  },
  {
   "cell_type": "code",
   "execution_count": null,
   "metadata": {
    "colab": {},
    "colab_type": "code",
    "id": "-dxUOw646NkP"
   },
   "outputs": [],
   "source": [
    "dr_nn_c = DataReader('./datasets/training-v1/offenseval-training-v1.tsv','C')\n",
    "data_nn_c,labels_nn_c = dr_nn_c.get_labelled_data()\n",
    "data_nn_c,labels_nn_c = dr_nn_c.shuffle(data_nn_c,labels_nn_c,'random')\n",
    "\n",
    "tr_data_nn_c,tst_data_nn_c,tr_labels_nn_c,tst_labels_nn_c = split(data_nn_c,labels_nn_c,test_size=0.3)\n",
    "\n",
    "prp = Preprocessor('remove_stopwords','lemmatize')\n",
    "tr_data_clean_nn_c = prp.clean(tr_data_nn_c)\n",
    "tst_data_clean_nn_c = prp.clean(tst_data_nn_c)\n",
    "\n",
    "vct = Vectorizer('count')\n",
    "vct.vectorize(tr_data_clean_nn_c)"
   ]
  },
  {
   "cell_type": "markdown",
   "metadata": {
    "colab_type": "text",
    "id": "V4vHk7nXHF4Y"
   },
   "source": [
    "### Training LSTM"
   ]
  },
  {
   "cell_type": "code",
   "execution_count": 21,
   "metadata": {
    "colab": {
     "base_uri": "https://localhost:8080/",
     "height": 2329
    },
    "colab_type": "code",
    "id": "7UXR5pG66NkR",
    "outputId": "3150a3de-6eee-40e4-8b06-52e7a9235456"
   },
   "outputs": [
    {
     "name": "stdout",
     "output_type": "stream",
     "text": [
      "_________________________________________________________________\n",
      "Layer (type)                 Output Shape              Param #   \n",
      "=================================================================\n",
      "embedding_8 (Embedding)      (None, 34, 30)            194340    \n",
      "_________________________________________________________________\n",
      "lstm_6 (LSTM)                (None, 200)               184800    \n",
      "_________________________________________________________________\n",
      "dense_13 (Dense)             (None, 34)                6834      \n",
      "_________________________________________________________________\n",
      "dense_14 (Dense)             (None, 3)                 105       \n",
      "=================================================================\n",
      "Total params: 386,079\n",
      "Trainable params: 386,079\n",
      "Non-trainable params: 0\n",
      "_________________________________________________________________\n",
      "Train on 2170 samples, validate on 543 samples\n",
      "Epoch 1/60\n",
      "2170/2170 [==============================] - 6s 3ms/step - loss: 10.4619 - acc: 0.6166 - val_loss: 1.7580 - val_acc: 0.6280\n",
      "Epoch 2/60\n",
      "2170/2170 [==============================] - 4s 2ms/step - loss: 1.1254 - acc: 0.6166 - val_loss: 0.9404 - val_acc: 0.6280\n",
      "Epoch 3/60\n",
      "2170/2170 [==============================] - 4s 2ms/step - loss: 0.9152 - acc: 0.6166 - val_loss: 0.9056 - val_acc: 0.6280\n",
      "Epoch 4/60\n",
      "2170/2170 [==============================] - 4s 2ms/step - loss: 0.9092 - acc: 0.6166 - val_loss: 0.8984 - val_acc: 0.6280\n",
      "Epoch 5/60\n",
      "2170/2170 [==============================] - 4s 2ms/step - loss: 0.8951 - acc: 0.6166 - val_loss: 0.8938 - val_acc: 0.6280\n",
      "Epoch 6/60\n",
      "2170/2170 [==============================] - 4s 2ms/step - loss: 0.8914 - acc: 0.6166 - val_loss: 0.8912 - val_acc: 0.6280\n",
      "Epoch 7/60\n",
      "2170/2170 [==============================] - 4s 2ms/step - loss: 0.8860 - acc: 0.6166 - val_loss: 0.8886 - val_acc: 0.6280\n",
      "Epoch 8/60\n",
      "2170/2170 [==============================] - 4s 2ms/step - loss: 0.8859 - acc: 0.6166 - val_loss: 0.8906 - val_acc: 0.6280\n",
      "Epoch 9/60\n",
      "2170/2170 [==============================] - 4s 2ms/step - loss: 0.8843 - acc: 0.6166 - val_loss: 0.8899 - val_acc: 0.6280\n",
      "Epoch 10/60\n",
      "2170/2170 [==============================] - 4s 2ms/step - loss: 0.8847 - acc: 0.6166 - val_loss: 0.8898 - val_acc: 0.6280\n",
      "Epoch 11/60\n",
      "2170/2170 [==============================] - 4s 2ms/step - loss: 0.8849 - acc: 0.6166 - val_loss: 0.8875 - val_acc: 0.6280\n",
      "Epoch 12/60\n",
      "2170/2170 [==============================] - 4s 2ms/step - loss: 0.8850 - acc: 0.6166 - val_loss: 0.8923 - val_acc: 0.6280\n",
      "Epoch 13/60\n",
      "2170/2170 [==============================] - 4s 2ms/step - loss: 0.8836 - acc: 0.6166 - val_loss: 0.8860 - val_acc: 0.6280\n",
      "Epoch 14/60\n",
      "2170/2170 [==============================] - 4s 2ms/step - loss: 0.8817 - acc: 0.6166 - val_loss: 0.8871 - val_acc: 0.6280\n",
      "Epoch 15/60\n",
      "2170/2170 [==============================] - 4s 2ms/step - loss: 0.8825 - acc: 0.6166 - val_loss: 0.8891 - val_acc: 0.6280\n",
      "Epoch 16/60\n",
      "2170/2170 [==============================] - 4s 2ms/step - loss: 0.8823 - acc: 0.6166 - val_loss: 0.8935 - val_acc: 0.6280\n",
      "Epoch 17/60\n",
      "2170/2170 [==============================] - 4s 2ms/step - loss: 0.8817 - acc: 0.6166 - val_loss: 0.8871 - val_acc: 0.6280\n",
      "Epoch 18/60\n",
      "2170/2170 [==============================] - 4s 2ms/step - loss: 0.8822 - acc: 0.6166 - val_loss: 0.8875 - val_acc: 0.6280\n",
      "Epoch 19/60\n",
      "2170/2170 [==============================] - 4s 2ms/step - loss: 0.8824 - acc: 0.6166 - val_loss: 0.8857 - val_acc: 0.6280\n",
      "Epoch 20/60\n",
      "2170/2170 [==============================] - 4s 2ms/step - loss: 0.8814 - acc: 0.6166 - val_loss: 0.8868 - val_acc: 0.6280\n",
      "Epoch 21/60\n",
      "2170/2170 [==============================] - 4s 2ms/step - loss: 0.8808 - acc: 0.6166 - val_loss: 0.8887 - val_acc: 0.6280\n",
      "Epoch 22/60\n",
      "2170/2170 [==============================] - 4s 2ms/step - loss: 0.8804 - acc: 0.6166 - val_loss: 0.8877 - val_acc: 0.6280\n",
      "Epoch 23/60\n",
      "2170/2170 [==============================] - 4s 2ms/step - loss: 0.8807 - acc: 0.6166 - val_loss: 0.8861 - val_acc: 0.6280\n",
      "Epoch 24/60\n",
      "2170/2170 [==============================] - 4s 2ms/step - loss: 0.8806 - acc: 0.6166 - val_loss: 0.8865 - val_acc: 0.6280\n",
      "Epoch 25/60\n",
      "2170/2170 [==============================] - 4s 2ms/step - loss: 0.8813 - acc: 0.6166 - val_loss: 0.8903 - val_acc: 0.6280\n",
      "Epoch 26/60\n",
      "2170/2170 [==============================] - 4s 2ms/step - loss: 0.8821 - acc: 0.6166 - val_loss: 0.8868 - val_acc: 0.6280\n",
      "Epoch 27/60\n",
      "2170/2170 [==============================] - 4s 2ms/step - loss: 0.8808 - acc: 0.6166 - val_loss: 0.8867 - val_acc: 0.6280\n",
      "Epoch 28/60\n",
      "2170/2170 [==============================] - 4s 2ms/step - loss: 0.8809 - acc: 0.6166 - val_loss: 0.8869 - val_acc: 0.6280\n",
      "Epoch 29/60\n",
      "2170/2170 [==============================] - 4s 2ms/step - loss: 0.8810 - acc: 0.6166 - val_loss: 0.8868 - val_acc: 0.6280\n",
      "Epoch 30/60\n",
      "2170/2170 [==============================] - 4s 2ms/step - loss: 0.8812 - acc: 0.6166 - val_loss: 0.8873 - val_acc: 0.6280\n",
      "Epoch 31/60\n",
      "2170/2170 [==============================] - 4s 2ms/step - loss: 0.8804 - acc: 0.6166 - val_loss: 0.8880 - val_acc: 0.6280\n",
      "Epoch 32/60\n",
      "2170/2170 [==============================] - 4s 2ms/step - loss: 0.8805 - acc: 0.6166 - val_loss: 0.8869 - val_acc: 0.6280\n",
      "Epoch 33/60\n",
      "2170/2170 [==============================] - 4s 2ms/step - loss: 0.8802 - acc: 0.6166 - val_loss: 0.8868 - val_acc: 0.6280\n",
      "Epoch 34/60\n",
      "2170/2170 [==============================] - 4s 2ms/step - loss: 0.8811 - acc: 0.6166 - val_loss: 0.8876 - val_acc: 0.6280\n",
      "Epoch 35/60\n",
      "2170/2170 [==============================] - 4s 2ms/step - loss: 0.8805 - acc: 0.6166 - val_loss: 0.8876 - val_acc: 0.6280\n",
      "Epoch 36/60\n",
      "2170/2170 [==============================] - 4s 2ms/step - loss: 0.8808 - acc: 0.6166 - val_loss: 0.8871 - val_acc: 0.6280\n",
      "Epoch 37/60\n",
      "2170/2170 [==============================] - 4s 2ms/step - loss: 0.8812 - acc: 0.6166 - val_loss: 0.8866 - val_acc: 0.6280\n",
      "Epoch 38/60\n",
      "2170/2170 [==============================] - 4s 2ms/step - loss: 0.8802 - acc: 0.6166 - val_loss: 0.8881 - val_acc: 0.6280\n",
      "Epoch 39/60\n",
      "2170/2170 [==============================] - 4s 2ms/step - loss: 0.8805 - acc: 0.6166 - val_loss: 0.8868 - val_acc: 0.6280\n",
      "Epoch 40/60\n",
      "2170/2170 [==============================] - 4s 2ms/step - loss: 0.8800 - acc: 0.6166 - val_loss: 0.8876 - val_acc: 0.6280\n",
      "Epoch 41/60\n",
      "2170/2170 [==============================] - 4s 2ms/step - loss: 0.8801 - acc: 0.6166 - val_loss: 0.8869 - val_acc: 0.6280\n",
      "Epoch 42/60\n",
      "2170/2170 [==============================] - 4s 2ms/step - loss: 0.8804 - acc: 0.6166 - val_loss: 0.8870 - val_acc: 0.6280\n",
      "Epoch 43/60\n",
      "2170/2170 [==============================] - 4s 2ms/step - loss: 0.8805 - acc: 0.6166 - val_loss: 0.8874 - val_acc: 0.6280\n",
      "Epoch 44/60\n",
      "2170/2170 [==============================] - 4s 2ms/step - loss: 0.8804 - acc: 0.6166 - val_loss: 0.8874 - val_acc: 0.6280\n",
      "Epoch 45/60\n",
      "2170/2170 [==============================] - 4s 2ms/step - loss: 0.8805 - acc: 0.6166 - val_loss: 0.8872 - val_acc: 0.6280\n",
      "Epoch 46/60\n",
      "2170/2170 [==============================] - 4s 2ms/step - loss: 0.8803 - acc: 0.6166 - val_loss: 0.8873 - val_acc: 0.6280\n",
      "Epoch 47/60\n",
      "2170/2170 [==============================] - 4s 2ms/step - loss: 0.8805 - acc: 0.6166 - val_loss: 0.8870 - val_acc: 0.6280\n",
      "Epoch 48/60\n",
      "2170/2170 [==============================] - 4s 2ms/step - loss: 0.8805 - acc: 0.6166 - val_loss: 0.8873 - val_acc: 0.6280\n",
      "Epoch 49/60\n",
      "2170/2170 [==============================] - 4s 2ms/step - loss: 0.8802 - acc: 0.6166 - val_loss: 0.8869 - val_acc: 0.6280\n",
      "Epoch 50/60\n",
      "2170/2170 [==============================] - 4s 2ms/step - loss: 0.8800 - acc: 0.6166 - val_loss: 0.8868 - val_acc: 0.6280\n",
      "Epoch 51/60\n",
      "2170/2170 [==============================] - 4s 2ms/step - loss: 0.8800 - acc: 0.6166 - val_loss: 0.8866 - val_acc: 0.6280\n",
      "Epoch 52/60\n",
      "2170/2170 [==============================] - 4s 2ms/step - loss: 0.8800 - acc: 0.6166 - val_loss: 0.8872 - val_acc: 0.6280\n",
      "Epoch 53/60\n",
      "2170/2170 [==============================] - 4s 2ms/step - loss: 0.8801 - acc: 0.6166 - val_loss: 0.8873 - val_acc: 0.6280\n",
      "Epoch 54/60\n",
      "2170/2170 [==============================] - 4s 2ms/step - loss: 0.8806 - acc: 0.6166 - val_loss: 0.8869 - val_acc: 0.6280\n",
      "Epoch 55/60\n",
      "2170/2170 [==============================] - 4s 2ms/step - loss: 0.8804 - acc: 0.6166 - val_loss: 0.8874 - val_acc: 0.6280\n",
      "Epoch 56/60\n",
      "2170/2170 [==============================] - 4s 2ms/step - loss: 0.8800 - acc: 0.6166 - val_loss: 0.8867 - val_acc: 0.6280\n",
      "Epoch 57/60\n",
      "2170/2170 [==============================] - 4s 2ms/step - loss: 0.8803 - acc: 0.6166 - val_loss: 0.8871 - val_acc: 0.6280\n",
      "Epoch 58/60\n",
      "2170/2170 [==============================] - 4s 2ms/step - loss: 0.8802 - acc: 0.6166 - val_loss: 0.8871 - val_acc: 0.6280\n",
      "Epoch 59/60\n",
      "2170/2170 [==============================] - 4s 2ms/step - loss: 0.8803 - acc: 0.6166 - val_loss: 0.8873 - val_acc: 0.6280\n",
      "Epoch 60/60\n",
      "2170/2170 [==============================] - 4s 2ms/step - loss: 0.8802 - acc: 0.6166 - val_loss: 0.8875 - val_acc: 0.6280\n"
     ]
    }
   ],
   "source": [
    "lstm_c = DeepLearner(tr_data_clean_nn_c,tr_labels_nn_c,vocab_length=vct.vocab_length,model_type='LSTM')\n",
    "lstm_c.train(epochs=60)"
   ]
  },
  {
   "cell_type": "markdown",
   "metadata": {
    "colab_type": "text",
    "id": "PQhFvMAwHHww"
   },
   "source": [
    "### Testing LSTM and plotting"
   ]
  },
  {
   "cell_type": "code",
   "execution_count": 23,
   "metadata": {
    "colab": {
     "base_uri": "https://localhost:8080/",
     "height": 345
    },
    "colab_type": "code",
    "id": "tsO4GUnXHDbF",
    "outputId": "b9013848-a5ba-4006-b6ad-baeef445a617"
   },
   "outputs": [
    {
     "data": {
      "image/png": "[encoded data removed]",
      "text/plain": [
       "<matplotlib.figure.Figure at 0x7f7aaa1c5400>"
      ]
     },
     "metadata": {
      "tags": []
     },
     "output_type": "display_data"
    },
    {
     "name": "stdout",
     "output_type": "stream",
     "text": [
      "1163/1163 [==============================] - 1s 456us/step\n",
      "LSTM (['loss', 'acc'], [0.8934729131049158, 0.6259673260863444])\n"
     ]
    }
   ],
   "source": [
    "acc = lstm_c.test_and_plot(tst_data_clean_nn_c,tst_labels_nn_c,3)\n",
    "print('LSTM',acc)"
   ]
  },
  {
   "cell_type": "markdown",
   "metadata": {
    "colab_type": "text",
    "id": "zbznpOehHL-8"
   },
   "source": [
    "### Training CNN"
   ]
  },
  {
   "cell_type": "code",
   "execution_count": 28,
   "metadata": {
    "colab": {
     "base_uri": "https://localhost:8080/",
     "height": 799
    },
    "colab_type": "code",
    "id": "-qXiiUM_6NkU",
    "outputId": "7af7480c-6a9c-4b8c-8465-bb2b4bad1171"
   },
   "outputs": [
    {
     "name": "stdout",
     "output_type": "stream",
     "text": [
      "_________________________________________________________________\n",
      "Layer (type)                 Output Shape              Param #   \n",
      "=================================================================\n",
      "embedding_11 (Embedding)     (None, 34, 30)            194340    \n",
      "_________________________________________________________________\n",
      "conv1d_13 (Conv1D)           (None, 30, 64)            9664      \n",
      "_________________________________________________________________\n",
      "dropout_9 (Dropout)          (None, 30, 64)            0         \n",
      "_________________________________________________________________\n",
      "conv1d_14 (Conv1D)           (None, 28, 32)            6176      \n",
      "_________________________________________________________________\n",
      "dropout_10 (Dropout)         (None, 28, 32)            0         \n",
      "_________________________________________________________________\n",
      "conv1d_15 (Conv1D)           (None, 26, 16)            1552      \n",
      "_________________________________________________________________\n",
      "max_pooling1d_5 (MaxPooling1 (None, 5, 16)             0         \n",
      "_________________________________________________________________\n",
      "flatten_5 (Flatten)          (None, 80)                0         \n",
      "_________________________________________________________________\n",
      "dense_17 (Dense)             (None, 3)                 243       \n",
      "=================================================================\n",
      "Total params: 211,975\n",
      "Trainable params: 211,975\n",
      "Non-trainable params: 0\n",
      "_________________________________________________________________\n",
      "Train on 2170 samples, validate on 543 samples\n",
      "Epoch 1/10\n",
      "2170/2170 [==============================] - 3s 1ms/step - loss: 1.1715 - acc: 0.4779 - val_loss: 0.8967 - val_acc: 0.6280\n",
      "Epoch 2/10\n",
      "2170/2170 [==============================] - 1s 334us/step - loss: 0.8796 - acc: 0.6166 - val_loss: 0.8804 - val_acc: 0.6280\n",
      "Epoch 3/10\n",
      "2170/2170 [==============================] - 1s 323us/step - loss: 0.8618 - acc: 0.6166 - val_loss: 0.8708 - val_acc: 0.6280\n",
      "Epoch 4/10\n",
      "2170/2170 [==============================] - 1s 324us/step - loss: 0.8286 - acc: 0.6346 - val_loss: 0.8582 - val_acc: 0.6519\n",
      "Epoch 5/10\n",
      "2170/2170 [==============================] - 1s 321us/step - loss: 0.7483 - acc: 0.7207 - val_loss: 0.8508 - val_acc: 0.6243\n",
      "Epoch 6/10\n",
      "2170/2170 [==============================] - 1s 322us/step - loss: 0.6434 - acc: 0.7811 - val_loss: 0.8677 - val_acc: 0.6354\n",
      "Epoch 7/10\n",
      "2170/2170 [==============================] - 1s 322us/step - loss: 0.5576 - acc: 0.8152 - val_loss: 0.8973 - val_acc: 0.6317\n",
      "Epoch 8/10\n",
      "2170/2170 [==============================] - 1s 322us/step - loss: 0.5025 - acc: 0.8336 - val_loss: 0.9295 - val_acc: 0.6298\n",
      "Epoch 9/10\n",
      "2170/2170 [==============================] - 1s 320us/step - loss: 0.4557 - acc: 0.8493 - val_loss: 0.9785 - val_acc: 0.6280\n",
      "Epoch 10/10\n",
      "2170/2170 [==============================] - 1s 318us/step - loss: 0.4082 - acc: 0.8641 - val_loss: 1.0577 - val_acc: 0.6077\n"
     ]
    }
   ],
   "source": [
    "cnn_c = DeepLearner(tr_data_clean_nn_c,tr_labels_nn_c,vocab_length=vct.vocab_length,model_type='CNN')\n",
    "cnn_c.train(epochs=10)"
   ]
  },
  {
   "cell_type": "markdown",
   "metadata": {
    "colab_type": "text",
    "id": "21JpwRsLHNSm"
   },
   "source": [
    "### Testing CNN and plotting"
   ]
  },
  {
   "cell_type": "code",
   "execution_count": 29,
   "metadata": {
    "colab": {
     "base_uri": "https://localhost:8080/",
     "height": 345
    },
    "colab_type": "code",
    "id": "oUJkJvi4HD-i",
    "outputId": "fa08c8ae-7efa-49c1-c312-8afb39539b8a"
   },
   "outputs": [
    {
     "data": {
      "image/png": "[encoded data removed]",
      "text/plain": [
       "<matplotlib.figure.Figure at 0x7f7aa7b75d68>"
      ]
     },
     "metadata": {
      "tags": []
     },
     "output_type": "display_data"
    },
    {
     "name": "stdout",
     "output_type": "stream",
     "text": [
      "1163/1163 [==============================] - 0s 94us/step\n",
      "CNN (['loss', 'acc'], [1.0960564766069578, 0.5700773862242596])\n"
     ]
    }
   ],
   "source": [
    "acc = cnn_c.test_and_plot(tst_data_clean_nn_c,tst_labels_nn_c,3)\n",
    "print('CNN',acc)"
   ]
  }
 ],
 "metadata": {
  "colab": {
   "collapsed_sections": [],
   "include_colab_link": true,
   "name": "offenseval.ipynb",
   "provenance": [],
   "version": "0.3.2"
  },
  "kernelspec": {
   "display_name": "Python 3",
   "language": "python",
   "name": "python3"
  },
  "language_info": {
   "codemirror_mode": {
    "name": "ipython",
    "version": 3
   },
   "file_extension": ".py",
   "mimetype": "text/x-python",
   "name": "python",
   "nbconvert_exporter": "python",
   "pygments_lexer": "ipython3",
   "version": "3.7.4"
  }
 },
 "nbformat": 4,
 "nbformat_minor": 4
}
