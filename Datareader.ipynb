{
 "cells": [
  {
   "cell_type": "markdown",
   "metadata": {},
   "source": [
    "## IMPORT PACKAGES "
   ]
  },
  {
   "cell_type": "code",
   "execution_count": 30,
   "metadata": {},
   "outputs": [],
   "source": [
    "import nltk\n",
    "import numpy as np\n",
    "import csv\n",
    "#tqdm : 进度条\n",
    "from tqdm import tqdm\n",
    "from sklearn.utils import shuffle\n",
    "from sklearn.model_selection import train_test_split as split\n",
    "#用于在jupyter 显示图像\n",
    "%matplotlib inline"
   ]
  },
  {
   "cell_type": "code",
   "execution_count": 3,
   "metadata": {},
   "outputs": [
    {
     "name": "stderr",
     "output_type": "stream",
     "text": [
      "[nltk_data] Downloading package stopwords to\n",
      "[nltk_data]     C:\\Users\\joker\\AppData\\Roaming\\nltk_data...\n",
      "[nltk_data]   Package stopwords is already up-to-date!\n",
      "[nltk_data] Downloading package punkt to\n",
      "[nltk_data]     C:\\Users\\joker\\AppData\\Roaming\\nltk_data...\n",
      "[nltk_data]   Package punkt is already up-to-date!\n",
      "[nltk_data] Downloading package wordnet to\n",
      "[nltk_data]     C:\\Users\\joker\\AppData\\Roaming\\nltk_data...\n",
      "[nltk_data]   Package wordnet is already up-to-date!\n",
      "[nltk_data] Downloading package averaged_perceptron_tagger to\n",
      "[nltk_data]     C:\\Users\\joker\\AppData\\Roaming\\nltk_data...\n",
      "[nltk_data]   Package averaged_perceptron_tagger is already up-to-\n",
      "[nltk_data]       date!\n"
     ]
    },
    {
     "data": {
      "text/plain": [
       "True"
      ]
     },
     "execution_count": 3,
     "metadata": {},
     "output_type": "execute_result"
    }
   ],
   "source": [
    "#无法下载则去www.nltk.org/nltk_data官网下载后放在相应目录下\n",
    "#官网用chrome可以下载\n",
    "nltk.download(['stopwords','punkt','wordnet','averaged_perceptron_tagger'])"
   ]
  },
  {
   "cell_type": "markdown",
   "metadata": {},
   "source": [
    "## READ DATA \n"
   ]
  },
  {
   "cell_type": "code",
   "execution_count": 18,
   "metadata": {},
   "outputs": [],
   "source": [
    "#Variables\n",
    "\n",
    "FILE_PATH = './datasets/training-v1/offenseval-training-v1.tsv'\n"
   ]
  },
  {
   "cell_type": "code",
   "execution_count": 13,
   "metadata": {},
   "outputs": [],
   "source": [
    "def str_to_label(text_label):\n",
    "    label = 0\n",
    "    if text_label == 'OFF':\n",
    "        label = 1\n",
    "    return label"
   ]
  },
  {
   "cell_type": "code",
   "execution_count": 20,
   "metadata": {},
   "outputs": [],
   "source": [
    "#从tsv文档读数据\n",
    "#输入数据格式：\n",
    "#id,tweet,label_a,label_b,label_c\n",
    "#输出data list [tweet1, tweet2,...]\n",
    "#输出label list [label1, label2, ...]\n",
    "def get_training_data(FILE_PATH):\n",
    "    data = []\n",
    "    labels = []\n",
    "    with open(FILE_PATH, encoding='utf-8') as tsvfile:\n",
    "        reader = csv.reader(tsvfile,delimiter='\\t')\n",
    "        for i,line in enumerate(tqdm(reader,'READING DATA.....')):\n",
    "            if i is 0:\n",
    "                #不读第一行（title）\n",
    "                continue\n",
    "            label = str_to_label(line[-3])\n",
    "            data.append(line[1])\n",
    "            labels.append(label)\n",
    "    return data, labels\n",
    "            "
   ]
  },
  {
   "cell_type": "code",
   "execution_count": 24,
   "metadata": {},
   "outputs": [
    {
     "name": "stderr",
     "output_type": "stream",
     "text": [
      "READING DATA.....: 13241it [00:00, 212044.47it/s]\n"
     ]
    }
   ],
   "source": [
    "all_data, all_labels = get_training_data(FILE_PATH)"
   ]
  },
  {
   "cell_type": "code",
   "execution_count": 25,
   "metadata": {},
   "outputs": [
    {
     "name": "stdout",
     "output_type": "stream",
     "text": [
      "['@USER She should ask a few native Americans what their take on this is.', '@USER @USER Go home you’re drunk!!! @USER #MAGA #Trump2020 👊🇺🇸👊 URL', 'Amazon is investigating Chinese employees who are selling internal data to third-party sellers looking for an edge in the competitive marketplace. URL #Amazon #MAGA #KAG #CHINA #TCOT']\n",
      "[1, 1, 0]\n"
     ]
    }
   ],
   "source": [
    "print(all_data[:3])\n",
    "print(all_labels[:3])"
   ]
  },
  {
   "cell_type": "code",
   "execution_count": 27,
   "metadata": {},
   "outputs": [],
   "source": [
    "## 为了评估模型性能，需要labeled test data\n",
    "## 从数据中分出1/10做validation data, 1/10做test data\n",
    "## 首先shuffle数据\n",
    "shuffled_data, shuffled_labels = shuffle(all_data, all_labels, random_state=0)"
   ]
  },
  {
   "cell_type": "code",
   "execution_count": 28,
   "metadata": {},
   "outputs": [
    {
     "name": "stdout",
     "output_type": "stream",
     "text": [
      "['@USER Good! #Antifa is violent fascism.', \"@USER It has been being de-created slowly and stealthily since the CONservatives came to power... Hunt's done a sterling job.\", \"* Christian Kabasele reveals the secrets behind Watford's perfect start to the Premier League season : Beans are banned at Watford's training ground so Christian Kabasele spills the avocado and quinoa. He is is intelligent.. . URL URL\"]\n",
      "[0, 0, 0]\n"
     ]
    }
   ],
   "source": [
    "print(shuffled_data[:3])\n",
    "print(shuffled_labels[:3])"
   ]
  },
  {
   "cell_type": "code",
   "execution_count": 32,
   "metadata": {},
   "outputs": [],
   "source": [
    "#split train and test\n",
    "train_data,test_data,train_labels,test_labels = split(shuffled_data,\\\n",
    "                                                     shuffled_labels,\\\n",
    "                                                     test_size=0.1)"
   ]
  },
  {
   "cell_type": "markdown",
   "metadata": {},
   "source": [
    "## Data Statics"
   ]
  },
  {
   "cell_type": "code",
   "execution_count": null,
   "metadata": {},
   "outputs": [],
   "source": [
    "# 1. 句数\n",
    "print('training set size: '+str(len(train_data))+'\\n','with '+str(sum(train_labels))+','+str(round(sum(train_labels)/len(train_data),4))+' offensive\\n')\n",
    "print('\\ntest set size: '+str(len(test_data))+'\\n','with '+str(sum(test_labels))+','+str(round(sum(test_labels)/len(test_data),4))+' offensive\\n')\n",
    "# 2.平均长度\n",
    "print('\\nAverage Length:\\n')\n",
    "train_wc= 0\n",
    "test_wc = 0\n",
    "train_vocab = set()\n",
    "test_vocab = set()\n",
    "for t in train_data:\n",
    "    t_list = t.split(' ')\n",
    "    train_wc += len(t_list)\n",
    "    for w in t_list:\n",
    "        train_vocab.add(w)\n",
    "for t in test_data:\n",
    "    t_list = t.split(' ')\n",
    "    test_wc += len(t_list)\n",
    "    for w in t_list:\n",
    "        test_vocab.add(w)\n",
    "print('training: '+str(round(train_wc/len(train_data),2)))\n",
    "print('test: '+str(round(test_wc/len(test_data),2))+'\\n')\n",
    "\n",
    "\n",
    "print('\\nVocab size:\\n')\n",
    "print('training: '+str(len(train_vocab)))\n",
    "print('testing: '+str(len(test_vocab)))"
   ]
  },
  {
   "cell_type": "code",
   "execution_count": 72,
   "metadata": {},
   "outputs": [],
   "source": [
    "def get_statics(data,label,datatype):\n",
    "    length = len(data)\n",
    "    off_d = sum(label)\n",
    "    off = round(off_d/length,4)\n",
    "    wc = 0\n",
    "    vocab = set()\n",
    "    for t in data:\n",
    "        t_list = t.split(' ')\n",
    "        wc += len(t_list)\n",
    "        for w in t_list:\n",
    "            vocab.add(w)\n",
    "    a_wc = round(wc/length,2)\n",
    "    \n",
    "    \n",
    "    print('--------'+'For %s set'%(datatype)+'-------')\n",
    "    print('Length: %d'%(length))\n",
    "    print('with offensive tweets %d,%.4f'%(off_d,off))\n",
    "    print('average length: %.2f'%(a_wc))\n",
    "    print('vocab size: %d'%(len(vocab)))\n",
    "    print()"
   ]
  },
  {
   "cell_type": "code",
   "execution_count": 73,
   "metadata": {},
   "outputs": [
    {
     "name": "stdout",
     "output_type": "stream",
     "text": [
      "--------For training set-------\n",
      "Length: 11916\n",
      "with offensive tweets 4009,0.3364\n",
      "average length: 22.66\n",
      "vocab size: 36539\n",
      "\n",
      "--------For testing set-------\n",
      "Length: 1324\n",
      "with offensive tweets 391,0.2953\n",
      "average length: 23.24\n",
      "vocab size: 7973\n",
      "\n"
     ]
    }
   ],
   "source": [
    "get_statics(train_data,train_labels,'training')\n",
    "get_statics(test_data,test_labels,'testing')\n"
   ]
  },
  {
   "cell_type": "markdown",
   "metadata": {},
   "source": [
    "## Pre-processing"
   ]
  },
  {
   "cell_type": "code",
   "execution_count": 46,
   "metadata": {},
   "outputs": [],
   "source": [
    "##接下来对数据做预处理\n",
    "##问题：\n",
    "##1. 不能完全凭空格做好分词，有相连的标点、专有名词等的干扰\n",
    "##2. 口语化，不规范用词\n",
    "##3. 待补充"
   ]
  },
  {
   "cell_type": "code",
   "execution_count": null,
   "metadata": {},
   "outputs": [],
   "source": []
  },
  {
   "cell_type": "code",
   "execution_count": null,
   "metadata": {},
   "outputs": [],
   "source": []
  }
 ],
 "metadata": {
  "kernelspec": {
   "display_name": "Python 3",
   "language": "python",
   "name": "python3"
  },
  "language_info": {
   "codemirror_mode": {
    "name": "ipython",
    "version": 3
   },
   "file_extension": ".py",
   "mimetype": "text/x-python",
   "name": "python",
   "nbconvert_exporter": "python",
   "pygments_lexer": "ipython3",
   "version": "3.7.4"
  }
 },
 "nbformat": 4,
 "nbformat_minor": 4
}
